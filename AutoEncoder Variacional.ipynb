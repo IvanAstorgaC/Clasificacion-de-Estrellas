{
 "cells": [
  {
   "cell_type": "markdown",
   "metadata": {
    "id": "G0_uwtfa3tAR"
   },
   "source": [
    "### Datos"
   ]
  },
  {
   "cell_type": "code",
   "execution_count": 1,
   "metadata": {
    "id": "rP1ETAmJ4yDX"
   },
   "outputs": [
    {
     "name": "stdout",
     "output_type": "stream",
     "text": [
      "WARNING:tensorflow:Please fix your imports. Module tensorflow.python.training.tracking.base has been moved to tensorflow.python.trackable.base. The old module will be deleted in version 2.11.\n",
      "WARNING:tensorflow:Please fix your imports. Module tensorflow.python.training.saving.functional_saver has been moved to tensorflow.python.checkpoint.functional_saver. The old module will be deleted in version 2.11.\n",
      "WARNING:tensorflow:Please fix your imports. Module tensorflow.python.training.saving.checkpoint_options has been moved to tensorflow.python.checkpoint.checkpoint_options. The old module will be deleted in version 2.11.\n"
     ]
    }
   ],
   "source": [
    "import numpy as np\n",
    "import pandas as pd\n",
    "import itertools\n",
    "import matplotlib.pyplot as plt\n",
    "from scipy import stats\n",
    "from sklearn.model_selection import train_test_split\n",
    "from sklearn.preprocessing import OneHotEncoder\n",
    "import tensorflow as tf\n",
    "from tensorflow import keras\n",
    "from tensorflow.keras import Sequential\n",
    "from tensorflow.keras import layers\n",
    "from tensorflow.keras.layers import Dense,Conv2D,Flatten, Activation, MaxPooling2D"
   ]
  },
  {
   "cell_type": "code",
   "execution_count": 2,
   "metadata": {
    "id": "2D46eQCHKaR0"
   },
   "outputs": [
    {
     "name": "stdout",
     "output_type": "stream",
     "text": [
      "dict_keys(['temp_images', 'SNR_images', 'diff_images', 'sci_images', 'labels', 'ID'])\n"
     ]
    }
   ],
   "source": [
    "data = np.load(\"data_train.pkl\",allow_pickle=True,encoding='latin1')\n",
    "print(data.keys())"
   ]
  },
  {
   "cell_type": "code",
   "execution_count": 3,
   "metadata": {
    "colab": {
     "base_uri": "https://localhost:8080/"
    },
    "id": "tXbnIrKl3ywW",
    "outputId": "b2ed89d2-b741-4f7c-b1b0-aaee9e279814"
   },
   "outputs": [
    {
     "name": "stdout",
     "output_type": "stream",
     "text": [
      "shape original: (4026, 441)\n",
      "shape nueva: (4026, 21, 21, 4)\n"
     ]
    },
    {
     "data": {
      "text/plain": [
       "array([[0., 1.],\n",
       "       [1., 0.],\n",
       "       [1., 0.],\n",
       "       ...,\n",
       "       [0., 1.],\n",
       "       [0., 1.],\n",
       "       [1., 0.]])"
      ]
     },
     "execution_count": 3,
     "metadata": {},
     "output_type": "execute_result"
    }
   ],
   "source": [
    "print(\"shape original:\",data['sci_images'].shape)\n",
    "imagenes_1 = data['sci_images'].reshape(-1,21,21,1)\n",
    "imagenes_2 = data['temp_images'].reshape(-1,21,21,1)\n",
    "imagenes_3 = data['SNR_images'].reshape(-1,21,21,1)\n",
    "imagenes_4 = data['diff_images'].reshape(-1,21,21,1)\n",
    "\n",
    "images = np.concatenate((imagenes_1,imagenes_2,imagenes_3, imagenes_4), axis=3)\n",
    "print(\"shape nueva:\",images.shape)\n",
    "\n",
    "y = data['labels'].reshape(-1,1)\n",
    "ohe = OneHotEncoder(sparse=False)\n",
    "y = ohe.fit_transform(y)\n",
    "y\n"
   ]
  },
  {
   "cell_type": "code",
   "execution_count": 39,
   "metadata": {},
   "outputs": [
    {
     "name": "stdout",
     "output_type": "stream",
     "text": [
      "X_train shape: (3220, 21, 21, 4)\n",
      "X_val shape: (806, 21, 21, 4)\n",
      "y_train shape: (3220, 2)\n",
      "y_val shape: (806, 2)\n"
     ]
    }
   ],
   "source": [
    "X_train, X_val, y_train, y_val = train_test_split(images, y, test_size=0.20, random_state=42)\n",
    "print(\"X_train shape:\",X_train.shape)\n",
    "print(\"X_val shape:\",X_val.shape)\n",
    "print(\"y_train shape:\",y_train.shape)\n",
    "print(\"y_val shape:\",y_val.shape)"
   ]
  },
  {
   "cell_type": "code",
   "execution_count": null,
   "metadata": {},
   "outputs": [],
   "source": []
  },
  {
   "cell_type": "markdown",
   "metadata": {
    "id": "d5vZjEZH5EP-"
   },
   "source": [
    "### Modelo para Clasificar\n",
    "Usamos el mismo modelo de la tarea 1"
   ]
  },
  {
   "cell_type": "code",
   "execution_count": 36,
   "metadata": {
    "id": "ERbKTDYI5c9j"
   },
   "outputs": [],
   "source": [
    "from tensorflow.keras import layers"
   ]
  },
  {
   "cell_type": "code",
   "execution_count": 48,
   "metadata": {
    "id": "vlO2IdYa42-U"
   },
   "outputs": [
    {
     "name": "stdout",
     "output_type": "stream",
     "text": [
      "Epoch 1/15\n",
      "65/65 [==============================] - 2s 21ms/step - loss: 0.4558 - accuracy: 0.8481 - val_loss: 0.2383 - val_accuracy: 0.9293\n",
      "Epoch 2/15\n",
      "65/65 [==============================] - 1s 17ms/step - loss: 0.1295 - accuracy: 0.9683 - val_loss: 0.1268 - val_accuracy: 0.9653\n",
      "Epoch 3/15\n",
      "65/65 [==============================] - 1s 17ms/step - loss: 0.0888 - accuracy: 0.9780 - val_loss: 0.0821 - val_accuracy: 0.9814\n",
      "Epoch 4/15\n",
      "65/65 [==============================] - 1s 17ms/step - loss: 0.0694 - accuracy: 0.9823 - val_loss: 0.0767 - val_accuracy: 0.9789\n",
      "Epoch 5/15\n",
      "65/65 [==============================] - 1s 17ms/step - loss: 0.0694 - accuracy: 0.9817 - val_loss: 0.1239 - val_accuracy: 0.9615\n",
      "Epoch 6/15\n",
      "65/65 [==============================] - 1s 17ms/step - loss: 0.0711 - accuracy: 0.9817 - val_loss: 0.0810 - val_accuracy: 0.9777\n",
      "Epoch 7/15\n",
      "65/65 [==============================] - 1s 18ms/step - loss: 0.0525 - accuracy: 0.9873 - val_loss: 0.0721 - val_accuracy: 0.9814\n",
      "Epoch 8/15\n",
      "65/65 [==============================] - 1s 17ms/step - loss: 0.0526 - accuracy: 0.9860 - val_loss: 0.1585 - val_accuracy: 0.9516\n",
      "Epoch 9/15\n",
      "65/65 [==============================] - 1s 17ms/step - loss: 0.0497 - accuracy: 0.9860 - val_loss: 0.0830 - val_accuracy: 0.9777\n",
      "Epoch 10/15\n",
      "65/65 [==============================] - 1s 18ms/step - loss: 0.0429 - accuracy: 0.9888 - val_loss: 0.0830 - val_accuracy: 0.9777\n",
      "Epoch 11/15\n",
      "65/65 [==============================] - 1s 19ms/step - loss: 0.0416 - accuracy: 0.9891 - val_loss: 0.0811 - val_accuracy: 0.9814\n",
      "Epoch 12/15\n",
      "65/65 [==============================] - 1s 18ms/step - loss: 0.0492 - accuracy: 0.9894 - val_loss: 0.0768 - val_accuracy: 0.9789\n",
      "Epoch 13/15\n",
      "65/65 [==============================] - 1s 17ms/step - loss: 0.0386 - accuracy: 0.9894 - val_loss: 0.1100 - val_accuracy: 0.9789\n",
      "Epoch 14/15\n",
      "65/65 [==============================] - 1s 18ms/step - loss: 0.0466 - accuracy: 0.9876 - val_loss: 0.0783 - val_accuracy: 0.9826\n",
      "Epoch 15/15\n",
      "65/65 [==============================] - 1s 17ms/step - loss: 0.0339 - accuracy: 0.9901 - val_loss: 0.0825 - val_accuracy: 0.9851\n"
     ]
    }
   ],
   "source": [
    "model = Sequential()\n",
    "model.add(Conv2D(64,kernel_size = 2,input_shape = (21,21,4),padding='same'))\n",
    "model.add(Activation('relu'))\n",
    "model.add(MaxPooling2D(pool_size=(2, 2)))\n",
    "model.add(Conv2D(64,kernel_size = 2,input_shape = (21,21,4), padding='same'))\n",
    "model.add(Activation('relu'))\n",
    "model.add(MaxPooling2D(pool_size=(2, 2)))\n",
    "model.add(Conv2D(64,kernel_size = 2,input_shape = (21,21,4), padding='same'))\n",
    "model.add(Activation('relu'))\n",
    "model.add(MaxPooling2D(pool_size=(2, 2)))\n",
    "model.add(Conv2D(64,kernel_size = 2,input_shape = (21,21,4), padding='same'))\n",
    "model.add(Activation('relu'))\n",
    "model.add(MaxPooling2D(pool_size=(2, 2)))\n",
    "\n",
    "\n",
    "model.add(Flatten())\n",
    "model.add(Dense(units= 64,activation='sigmoid'))\n",
    "model.add(Dense(units= 64,activation='sigmoid'))\n",
    "model.add(Dense(units= 64,activation='sigmoid'))\n",
    "model.add(Dense(units = 2,activation = 'softmax'))\n",
    "model.compile(loss='binary_crossentropy', optimizer='rmsprop', metrics=['accuracy'])\n",
    "history = model.fit(x = X_train , y = y_train, batch_size = 50, epochs = 15, validation_data = (X_val,y_val))"
   ]
  },
  {
   "cell_type": "code",
   "execution_count": 54,
   "metadata": {
    "colab": {
     "base_uri": "https://localhost:8080/"
    },
    "id": "fwTplH9L6X8o",
    "outputId": "af16f096-2ec0-4c33-e760-c2d20cd6d94d"
   },
   "outputs": [
    {
     "name": "stdout",
     "output_type": "stream",
     "text": [
      "Model: \"sequential_10\"\n",
      "_________________________________________________________________\n",
      " Layer (type)                Output Shape              Param #   \n",
      "=================================================================\n",
      " conv2d_36 (Conv2D)          (None, 21, 21, 64)        1088      \n",
      "                                                                 \n",
      " activation_36 (Activation)  (None, 21, 21, 64)        0         \n",
      "                                                                 \n",
      " max_pooling2d_36 (MaxPoolin  (None, 10, 10, 64)       0         \n",
      " g2D)                                                            \n",
      "                                                                 \n",
      " conv2d_37 (Conv2D)          (None, 10, 10, 64)        16448     \n",
      "                                                                 \n",
      " activation_37 (Activation)  (None, 10, 10, 64)        0         \n",
      "                                                                 \n",
      " max_pooling2d_37 (MaxPoolin  (None, 5, 5, 64)         0         \n",
      " g2D)                                                            \n",
      "                                                                 \n",
      " conv2d_38 (Conv2D)          (None, 5, 5, 64)          16448     \n",
      "                                                                 \n",
      " activation_38 (Activation)  (None, 5, 5, 64)          0         \n",
      "                                                                 \n",
      " max_pooling2d_38 (MaxPoolin  (None, 2, 2, 64)         0         \n",
      " g2D)                                                            \n",
      "                                                                 \n",
      " conv2d_39 (Conv2D)          (None, 2, 2, 64)          16448     \n",
      "                                                                 \n",
      " activation_39 (Activation)  (None, 2, 2, 64)          0         \n",
      "                                                                 \n",
      " max_pooling2d_39 (MaxPoolin  (None, 1, 1, 64)         0         \n",
      " g2D)                                                            \n",
      "                                                                 \n",
      " flatten_10 (Flatten)        (None, 64)                0         \n",
      "                                                                 \n",
      " dense_36 (Dense)            (None, 64)                4160      \n",
      "                                                                 \n",
      " dense_37 (Dense)            (None, 64)                4160      \n",
      "                                                                 \n",
      " dense_38 (Dense)            (None, 64)                4160      \n",
      "                                                                 \n",
      " dense_39 (Dense)            (None, 2)                 130       \n",
      "                                                                 \n",
      "=================================================================\n",
      "Total params: 63,042\n",
      "Trainable params: 63,042\n",
      "Non-trainable params: 0\n",
      "_________________________________________________________________\n"
     ]
    }
   ],
   "source": [
    "model.summary()"
   ]
  },
  {
   "cell_type": "code",
   "execution_count": 50,
   "metadata": {
    "colab": {
     "base_uri": "https://localhost:8080/",
     "height": 295
    },
    "id": "qw4K4-Nx8TBZ",
    "outputId": "1fcc9307-006f-4374-d13d-4ef9c0cef1dd"
   },
   "outputs": [
    {
     "data": {
      "image/png": "[encoded data removed]",
      "text/plain": [
       "<Figure size 576x216 with 2 Axes>"
      ]
     },
     "metadata": {
      "needs_background": "light"
     },
     "output_type": "display_data"
    }
   ],
   "source": [
    "import matplotlib.pyplot as plt\n",
    "import seaborn as sns\n",
    "\n",
    "plt.figure(figsize=(8,3))\n",
    "plt.subplot(1,2,1)\n",
    "plt.plot(history.history['accuracy'])  \n",
    "plt.plot(history.history['val_accuracy'])  \n",
    "plt.xlabel(\"Num of Epochs\")  \n",
    "plt.ylabel(\"accuracy\")  \n",
    "plt.title(\"Training accuracy vs Validation accuracy\")  \n",
    "plt.legend(['train','validation'])\n",
    "\n",
    "plt.subplot(1,2,2) \n",
    "plt.plot(history.history['loss'])  \n",
    "plt.plot(history.history['val_loss'])  \n",
    "plt.xlabel(\"Num of Epochs\")  \n",
    "plt.ylabel(\"Loss\")  \n",
    "plt.title(\"Training Loss vs Validation Loss\")  \n",
    "plt.legend(['train','validation'])\n",
    "plt.savefig('accuracy.png')"
   ]
  },
  {
   "cell_type": "markdown",
   "metadata": {
    "id": "GwBd6t7M92Te"
   },
   "source": [
    "### Evaluación\n",
    "\n",
    "Evaluamos nuestro modelo usando el conjunto de test"
   ]
  },
  {
   "cell_type": "code",
   "execution_count": 51,
   "metadata": {},
   "outputs": [
    {
     "name": "stdout",
     "output_type": "stream",
     "text": [
      "shape nueva: (1000, 21, 21, 4)\n"
     ]
    }
   ],
   "source": [
    "data_test = np.load(\"unlab_test.pkl\",allow_pickle=True,encoding='latin1')\n",
    "data_test.keys()\n",
    "imagenes_test_1 = data_test['sci_images'].reshape(-1,21,21,1)\n",
    "imagenes_test_2 = data_test['temp_images'].reshape(-1,21,21,1)\n",
    "imagenes_test_3 = data_test['SNR_images'].reshape(-1,21,21,1)\n",
    "imagenes_test_4 = data_test['diff_images'].reshape(-1,21,21,1)\n",
    "\n",
    "x_test = np.concatenate((imagenes_test_1,imagenes_test_2,imagenes_test_3, imagenes_test_4), axis=3)\n",
    "print(\"shape nueva:\",x_test.shape)"
   ]
  },
  {
   "cell_type": "code",
   "execution_count": 52,
   "metadata": {},
   "outputs": [],
   "source": [
    "labels_test = np.load(\"labels_test.pkl\",allow_pickle=True,encoding='latin1')\n",
    "y_test = labels_test['labels']#.reshape(-1,1)\n"
   ]
  },
  {
   "cell_type": "code",
   "execution_count": 53,
   "metadata": {
    "scrolled": true
   },
   "outputs": [
    {
     "name": "stdout",
     "output_type": "stream",
     "text": [
      "32/32 [==============================] - 0s 4ms/step\n",
      "accuracy:  0.992\n",
      "precision:  0.9918726854168752\n",
      "recall:  0.9921406511001887\n",
      "f1:  0.9919907412969392\n"
     ]
    }
   ],
   "source": [
    "from sklearn.metrics import f1_score, accuracy_score, confusion_matrix, precision_score, recall_score\n",
    "\n",
    "y_pred = model.predict(x_test)\n",
    "y_pred = np.argmax(y_pred,-1)\n",
    "\n",
    "print(\"accuracy: \", accuracy_score(y_test, y_pred))\n",
    "print(\"precision: \", precision_score(y_test, y_pred, average = 'macro'))\n",
    "print(\"recall: \", recall_score(y_test, y_pred, average = 'macro'))\n",
    "print(\"f1: \", f1_score(y_test, y_pred, average = 'macro'))"
   ]
  },
  {
   "cell_type": "markdown",
   "metadata": {},
   "source": [
    "### Autoencoder variacional\n",
    "Para armar nuestro VAE usaremos capas probabilisticas, para ello utilizaremos Tensorflow Probability ya que nos permitirá usar las capas DenseFlipout"
   ]
  },
  {
   "cell_type": "code",
   "execution_count": 13,
   "metadata": {
    "id": "f__0Rz8w5lYH"
   },
   "outputs": [],
   "source": [
    "import tensorflow_probability as tfp"
   ]
  },
  {
   "cell_type": "code",
   "execution_count": 76,
   "metadata": {
    "id": "a_biFFerLN7J"
   },
   "outputs": [],
   "source": [
    "def red_bayesiana(x_train):\n",
    "    kl_divergence_function = (lambda q, p, _: tfp.distributions.kl_divergence(q, p) / tf.cast(10, dtype=tf.float32))\n",
    "    modelo_simple = tf.keras.models.Sequential()\n",
    "    \n",
    "    modelo_simple.add(tf.keras.layers.Flatten(input_shape=x_train.shape[1:])) #Son imágenes. Hay que transformarlas a un vector primero\n",
    "    \n",
    "    modelo_simple.add(tfp.python.layers.DenseFlipout(64, kernel_divergence_fn=kl_divergence_function, activation='relu'))\n",
    "    modelo_simple.add(tfp.python.layers.DenseFlipout(64, kernel_divergence_fn=kl_divergence_function, activation='relu'))\n",
    "    modelo_simple.add(tfp.python.layers.DenseFlipout(64, kernel_divergence_fn=kl_divergence_function, activation='relu'))\n",
    "\n",
    "    modelo_simple.add(tfp.python.layers.DenseFlipout(2, kernel_divergence_fn=kl_divergence_function, activation='softmax'))\n",
    "\n",
    "    optimizer = tf.keras.optimizers.Adam(learning_rate=1e-04)\n",
    "    modelo_simple.compile(optimizer, loss=keras.losses.BinaryCrossentropy(from_logits=True),\n",
    "                metrics=['accuracy'])\n",
    "    return modelo_simple"
   ]
  },
  {
   "cell_type": "code",
   "execution_count": 78,
   "metadata": {
    "colab": {
     "base_uri": "https://localhost:8080/"
    },
    "id": "DwnSvPhyQc7R",
    "outputId": "e9326c2a-3595-4ee8-a8f7-6d1cecebc750",
    "scrolled": true
   },
   "outputs": [
    {
     "name": "stdout",
     "output_type": "stream",
     "text": [
      "Epoch 1/180\n"
     ]
    },
    {
     "name": "stderr",
     "output_type": "stream",
     "text": [
      "C:\\Users\\iaace\\anaconda3\\lib\\site-packages\\tensorflow\\python\\util\\dispatch.py:1176: UserWarning: \"`binary_crossentropy` received `from_logits=True`, but the `output` argument was produced by a sigmoid or softmax activation and thus does not represent logits. Was this intended?\"\n",
      "  return dispatch_target(*args, **kwargs)\n"
     ]
    },
    {
     "name": "stdout",
     "output_type": "stream",
     "text": [
      "51/51 [==============================] - 3s 19ms/step - loss: 35077.9336 - accuracy: 0.4755 - val_loss: 30996.5254 - val_accuracy: 0.4888\n",
      "Epoch 2/180\n",
      "51/51 [==============================] - 0s 9ms/step - loss: 32032.1172 - accuracy: 0.4839 - val_loss: 31770.4219 - val_accuracy: 0.5000\n",
      "Epoch 3/180\n",
      "51/51 [==============================] - 0s 9ms/step - loss: 31927.2695 - accuracy: 0.4842 - val_loss: 31082.1660 - val_accuracy: 0.5186\n",
      "Epoch 4/180\n",
      "51/51 [==============================] - 0s 9ms/step - loss: 31078.8281 - accuracy: 0.4981 - val_loss: 30775.3574 - val_accuracy: 0.5161\n",
      "Epoch 5/180\n",
      "51/51 [==============================] - 0s 9ms/step - loss: 30953.6270 - accuracy: 0.5096 - val_loss: 31010.9570 - val_accuracy: 0.5099\n",
      "Epoch 6/180\n",
      "51/51 [==============================] - 0s 9ms/step - loss: 31482.5508 - accuracy: 0.4988 - val_loss: 30749.8184 - val_accuracy: 0.5174\n",
      "Epoch 7/180\n",
      "51/51 [==============================] - 0s 9ms/step - loss: 30606.1367 - accuracy: 0.5090 - val_loss: 30532.8887 - val_accuracy: 0.5087\n",
      "Epoch 8/180\n",
      "51/51 [==============================] - 0s 9ms/step - loss: 30650.0020 - accuracy: 0.5093 - val_loss: 30562.1211 - val_accuracy: 0.5149\n",
      "Epoch 9/180\n",
      "51/51 [==============================] - 0s 9ms/step - loss: 31198.2949 - accuracy: 0.5093 - val_loss: 30584.4062 - val_accuracy: 0.5236\n",
      "Epoch 10/180\n",
      "51/51 [==============================] - 1s 10ms/step - loss: 30613.2148 - accuracy: 0.5121 - val_loss: 30499.9453 - val_accuracy: 0.5285\n",
      "Epoch 11/180\n",
      "51/51 [==============================] - 0s 10ms/step - loss: 30633.8633 - accuracy: 0.5124 - val_loss: 30529.8086 - val_accuracy: 0.5261\n",
      "Epoch 12/180\n",
      "51/51 [==============================] - 1s 11ms/step - loss: 30406.4219 - accuracy: 0.5149 - val_loss: 30364.5840 - val_accuracy: 0.5310\n",
      "Epoch 13/180\n",
      "51/51 [==============================] - 1s 13ms/step - loss: 30349.6367 - accuracy: 0.5165 - val_loss: 30496.6992 - val_accuracy: 0.5347\n",
      "Epoch 14/180\n",
      "51/51 [==============================] - 1s 13ms/step - loss: 30608.8379 - accuracy: 0.5214 - val_loss: 30299.7070 - val_accuracy: 0.5310\n",
      "Epoch 15/180\n",
      "51/51 [==============================] - 1s 12ms/step - loss: 30382.5410 - accuracy: 0.5211 - val_loss: 30278.3359 - val_accuracy: 0.5397\n",
      "Epoch 16/180\n",
      "51/51 [==============================] - 1s 14ms/step - loss: 30261.1406 - accuracy: 0.5180 - val_loss: 30264.9199 - val_accuracy: 0.5447\n",
      "Epoch 17/180\n",
      "51/51 [==============================] - 1s 13ms/step - loss: 30233.1602 - accuracy: 0.5295 - val_loss: 30226.4336 - val_accuracy: 0.5261\n",
      "Epoch 18/180\n",
      "51/51 [==============================] - 1s 11ms/step - loss: 30235.2793 - accuracy: 0.5261 - val_loss: 30226.9941 - val_accuracy: 0.5360\n",
      "Epoch 19/180\n",
      "51/51 [==============================] - 1s 11ms/step - loss: 30403.5410 - accuracy: 0.5252 - val_loss: 30176.9375 - val_accuracy: 0.5546\n",
      "Epoch 20/180\n",
      "51/51 [==============================] - 0s 9ms/step - loss: 30145.0801 - accuracy: 0.5273 - val_loss: 30127.5684 - val_accuracy: 0.5385\n",
      "Epoch 21/180\n",
      "51/51 [==============================] - 0s 9ms/step - loss: 30112.5840 - accuracy: 0.5283 - val_loss: 30131.8516 - val_accuracy: 0.5459\n",
      "Epoch 22/180\n",
      "51/51 [==============================] - 0s 9ms/step - loss: 30095.2520 - accuracy: 0.5348 - val_loss: 30068.7168 - val_accuracy: 0.5484\n",
      "Epoch 23/180\n",
      "51/51 [==============================] - 0s 9ms/step - loss: 30047.2500 - accuracy: 0.5339 - val_loss: 30038.6113 - val_accuracy: 0.5372\n",
      "Epoch 24/180\n",
      "51/51 [==============================] - 1s 10ms/step - loss: 30016.3848 - accuracy: 0.5307 - val_loss: 30004.8086 - val_accuracy: 0.5558\n",
      "Epoch 25/180\n",
      "51/51 [==============================] - 1s 10ms/step - loss: 29989.2129 - accuracy: 0.5401 - val_loss: 29976.8730 - val_accuracy: 0.5521\n",
      "Epoch 26/180\n",
      "51/51 [==============================] - 0s 9ms/step - loss: 30011.3398 - accuracy: 0.5385 - val_loss: 29943.7715 - val_accuracy: 0.5633\n",
      "Epoch 27/180\n",
      "51/51 [==============================] - 1s 11ms/step - loss: 29940.9062 - accuracy: 0.5519 - val_loss: 29912.8496 - val_accuracy: 0.5521\n",
      "Epoch 28/180\n",
      "51/51 [==============================] - 1s 12ms/step - loss: 29889.9727 - accuracy: 0.5540 - val_loss: 29880.4844 - val_accuracy: 0.5707\n",
      "Epoch 29/180\n",
      "51/51 [==============================] - 1s 14ms/step - loss: 29867.5625 - accuracy: 0.5488 - val_loss: 29848.4746 - val_accuracy: 0.5682\n",
      "Epoch 30/180\n",
      "51/51 [==============================] - 1s 13ms/step - loss: 29825.6230 - accuracy: 0.5593 - val_loss: 29812.9785 - val_accuracy: 0.5806\n",
      "Epoch 31/180\n",
      "51/51 [==============================] - 1s 11ms/step - loss: 30218.0020 - accuracy: 0.5509 - val_loss: 29779.7734 - val_accuracy: 0.5670\n",
      "Epoch 32/180\n",
      "51/51 [==============================] - 1s 10ms/step - loss: 29954.8711 - accuracy: 0.5578 - val_loss: 29750.0664 - val_accuracy: 0.5658\n",
      "Epoch 33/180\n",
      "51/51 [==============================] - 1s 10ms/step - loss: 29726.4629 - accuracy: 0.5475 - val_loss: 29714.6602 - val_accuracy: 0.5509\n",
      "Epoch 34/180\n",
      "51/51 [==============================] - 1s 10ms/step - loss: 29729.5820 - accuracy: 0.5534 - val_loss: 29780.4707 - val_accuracy: 0.5695\n",
      "Epoch 35/180\n",
      "51/51 [==============================] - 0s 10ms/step - loss: 29659.2539 - accuracy: 0.5531 - val_loss: 29669.6992 - val_accuracy: 0.5757\n",
      "Epoch 36/180\n",
      "51/51 [==============================] - 1s 10ms/step - loss: 29625.3945 - accuracy: 0.5519 - val_loss: 29613.8105 - val_accuracy: 0.5658\n",
      "Epoch 37/180\n",
      "51/51 [==============================] - 1s 10ms/step - loss: 29957.6797 - accuracy: 0.5556 - val_loss: 29590.8340 - val_accuracy: 0.5496\n",
      "Epoch 38/180\n",
      "51/51 [==============================] - 0s 9ms/step - loss: 29568.9258 - accuracy: 0.5649 - val_loss: 29546.3418 - val_accuracy: 0.5509\n",
      "Epoch 39/180\n",
      "51/51 [==============================] - 0s 10ms/step - loss: 29522.1309 - accuracy: 0.5634 - val_loss: 29508.3730 - val_accuracy: 0.5571\n",
      "Epoch 40/180\n",
      "51/51 [==============================] - 0s 9ms/step - loss: 29487.4082 - accuracy: 0.5587 - val_loss: 29480.0996 - val_accuracy: 0.5707\n",
      "Epoch 41/180\n",
      "51/51 [==============================] - 1s 10ms/step - loss: 29452.2578 - accuracy: 0.5677 - val_loss: 29442.0078 - val_accuracy: 0.5844\n",
      "Epoch 42/180\n",
      "51/51 [==============================] - 1s 10ms/step - loss: 29441.3906 - accuracy: 0.5661 - val_loss: 29405.4004 - val_accuracy: 0.5881\n",
      "Epoch 43/180\n",
      "51/51 [==============================] - 0s 10ms/step - loss: 29441.5234 - accuracy: 0.5637 - val_loss: 29372.3945 - val_accuracy: 0.5558\n",
      "Epoch 44/180\n",
      "51/51 [==============================] - 0s 10ms/step - loss: 29345.6562 - accuracy: 0.5525 - val_loss: 29354.5020 - val_accuracy: 0.5682\n",
      "Epoch 45/180\n",
      "51/51 [==============================] - 1s 10ms/step - loss: 29310.0020 - accuracy: 0.5612 - val_loss: 29304.7227 - val_accuracy: 0.5695\n",
      "Epoch 46/180\n",
      "51/51 [==============================] - 1s 11ms/step - loss: 29273.5918 - accuracy: 0.5571 - val_loss: 29262.4434 - val_accuracy: 0.5856\n",
      "Epoch 47/180\n",
      "51/51 [==============================] - 1s 10ms/step - loss: 29237.6152 - accuracy: 0.5575 - val_loss: 29224.6758 - val_accuracy: 0.5732\n",
      "Epoch 48/180\n",
      "51/51 [==============================] - 0s 10ms/step - loss: 29201.0469 - accuracy: 0.5584 - val_loss: 29191.1543 - val_accuracy: 0.5794\n",
      "Epoch 49/180\n",
      "51/51 [==============================] - 0s 9ms/step - loss: 29167.1953 - accuracy: 0.5730 - val_loss: 29150.9336 - val_accuracy: 0.5856\n",
      "Epoch 50/180\n",
      "51/51 [==============================] - 0s 9ms/step - loss: 29126.8828 - accuracy: 0.5780 - val_loss: 29117.9375 - val_accuracy: 0.5583\n",
      "Epoch 51/180\n",
      "51/51 [==============================] - 0s 10ms/step - loss: 29089.7148 - accuracy: 0.5730 - val_loss: 29082.7812 - val_accuracy: 0.5844\n",
      "Epoch 52/180\n",
      "51/51 [==============================] - 0s 9ms/step - loss: 29052.4258 - accuracy: 0.5823 - val_loss: 29043.5488 - val_accuracy: 0.6017\n",
      "Epoch 53/180\n",
      "51/51 [==============================] - 0s 9ms/step - loss: 29014.7676 - accuracy: 0.5882 - val_loss: 29003.1250 - val_accuracy: 0.5980\n",
      "Epoch 54/180\n",
      "51/51 [==============================] - 1s 10ms/step - loss: 28976.3984 - accuracy: 0.5866 - val_loss: 28960.7734 - val_accuracy: 0.5881\n",
      "Epoch 55/180\n",
      "51/51 [==============================] - 0s 9ms/step - loss: 28938.3164 - accuracy: 0.5978 - val_loss: 28994.7793 - val_accuracy: 0.6030\n",
      "Epoch 56/180\n",
      "51/51 [==============================] - 0s 9ms/step - loss: 28900.1113 - accuracy: 0.5879 - val_loss: 28903.1914 - val_accuracy: 0.6216\n",
      "Epoch 57/180\n",
      "51/51 [==============================] - 1s 10ms/step - loss: 28861.2578 - accuracy: 0.6043 - val_loss: 28850.0059 - val_accuracy: 0.5931\n",
      "Epoch 58/180\n",
      "51/51 [==============================] - 1s 11ms/step - loss: 28945.8711 - accuracy: 0.5966 - val_loss: 28810.7871 - val_accuracy: 0.6042\n",
      "Epoch 59/180\n",
      "51/51 [==============================] - 1s 10ms/step - loss: 28783.4531 - accuracy: 0.5882 - val_loss: 28771.3691 - val_accuracy: 0.5720\n",
      "Epoch 60/180\n",
      "51/51 [==============================] - 1s 10ms/step - loss: 28744.1543 - accuracy: 0.5866 - val_loss: 28733.5293 - val_accuracy: 0.5968\n",
      "Epoch 61/180\n",
      "51/51 [==============================] - 1s 10ms/step - loss: 28704.7559 - accuracy: 0.5950 - val_loss: 28692.3379 - val_accuracy: 0.5931\n",
      "Epoch 62/180\n",
      "51/51 [==============================] - 1s 10ms/step - loss: 28665.2344 - accuracy: 0.6009 - val_loss: 28649.0391 - val_accuracy: 0.6141\n",
      "Epoch 63/180\n",
      "51/51 [==============================] - 0s 10ms/step - loss: 28625.3242 - accuracy: 0.6012 - val_loss: 28617.6426 - val_accuracy: 0.6241\n",
      "Epoch 64/180\n",
      "51/51 [==============================] - 0s 9ms/step - loss: 28585.8105 - accuracy: 0.6068 - val_loss: 28571.6328 - val_accuracy: 0.6067\n",
      "Epoch 65/180\n",
      "51/51 [==============================] - 0s 9ms/step - loss: 28544.8887 - accuracy: 0.6140 - val_loss: 28532.5859 - val_accuracy: 0.6328\n",
      "Epoch 66/180\n",
      "51/51 [==============================] - 0s 9ms/step - loss: 28504.9062 - accuracy: 0.6152 - val_loss: 28490.5938 - val_accuracy: 0.6340\n",
      "Epoch 67/180\n",
      "51/51 [==============================] - 1s 10ms/step - loss: 28463.8340 - accuracy: 0.6224 - val_loss: 28455.3145 - val_accuracy: 0.6290\n",
      "Epoch 68/180\n",
      "51/51 [==============================] - 0s 10ms/step - loss: 28423.2793 - accuracy: 0.6186 - val_loss: 28406.8984 - val_accuracy: 0.6390\n",
      "Epoch 69/180\n",
      "51/51 [==============================] - 0s 9ms/step - loss: 28382.0645 - accuracy: 0.6236 - val_loss: 28368.9727 - val_accuracy: 0.6563\n",
      "Epoch 70/180\n",
      "51/51 [==============================] - 0s 10ms/step - loss: 28341.3027 - accuracy: 0.6255 - val_loss: 28322.5312 - val_accuracy: 0.6253\n",
      "Epoch 71/180\n",
      "51/51 [==============================] - 0s 9ms/step - loss: 28299.6328 - accuracy: 0.6323 - val_loss: 28287.3125 - val_accuracy: 0.6476\n",
      "Epoch 72/180\n",
      "51/51 [==============================] - 0s 9ms/step - loss: 28257.7520 - accuracy: 0.6429 - val_loss: 28244.0977 - val_accuracy: 0.6600\n",
      "Epoch 73/180\n",
      "51/51 [==============================] - 0s 10ms/step - loss: 28216.1543 - accuracy: 0.6413 - val_loss: 28200.2871 - val_accuracy: 0.6489\n",
      "Epoch 74/180\n",
      "51/51 [==============================] - 0s 9ms/step - loss: 28174.2637 - accuracy: 0.6373 - val_loss: 28161.9629 - val_accuracy: 0.6501\n",
      "Epoch 75/180\n",
      "51/51 [==============================] - 1s 12ms/step - loss: 28132.0625 - accuracy: 0.6422 - val_loss: 28117.3105 - val_accuracy: 0.6514\n",
      "Epoch 76/180\n",
      "51/51 [==============================] - 1s 11ms/step - loss: 28089.3164 - accuracy: 0.6525 - val_loss: 28073.3516 - val_accuracy: 0.6613\n",
      "Epoch 77/180\n",
      "51/51 [==============================] - 0s 10ms/step - loss: 28047.5742 - accuracy: 0.6503 - val_loss: 28035.5430 - val_accuracy: 0.6725\n",
      "Epoch 78/180\n",
      "51/51 [==============================] - 1s 11ms/step - loss: 28004.1348 - accuracy: 0.6500 - val_loss: 27996.5605 - val_accuracy: 0.6638\n",
      "Epoch 79/180\n",
      "51/51 [==============================] - 1s 12ms/step - loss: 27961.0527 - accuracy: 0.6438 - val_loss: 27946.3125 - val_accuracy: 0.6687\n",
      "Epoch 80/180\n",
      "51/51 [==============================] - 1s 12ms/step - loss: 27918.0332 - accuracy: 0.6534 - val_loss: 27947.5898 - val_accuracy: 0.6836\n",
      "Epoch 81/180\n",
      "51/51 [==============================] - 1s 15ms/step - loss: 27874.8965 - accuracy: 0.6724 - val_loss: 27860.1953 - val_accuracy: 0.6687\n",
      "Epoch 82/180\n",
      "51/51 [==============================] - 1s 14ms/step - loss: 27831.3711 - accuracy: 0.6708 - val_loss: 27813.5293 - val_accuracy: 0.6911\n",
      "Epoch 83/180\n",
      "51/51 [==============================] - 1s 13ms/step - loss: 27787.3789 - accuracy: 0.6876 - val_loss: 27778.2949 - val_accuracy: 0.6960\n",
      "Epoch 84/180\n",
      "51/51 [==============================] - 1s 13ms/step - loss: 27743.8691 - accuracy: 0.6752 - val_loss: 27727.4961 - val_accuracy: 0.6861\n",
      "Epoch 85/180\n",
      "51/51 [==============================] - 1s 13ms/step - loss: 27699.8320 - accuracy: 0.6748 - val_loss: 27684.2090 - val_accuracy: 0.7146\n",
      "Epoch 86/180\n",
      "51/51 [==============================] - 1s 15ms/step - loss: 27655.8086 - accuracy: 0.7003 - val_loss: 27640.6172 - val_accuracy: 0.6849\n",
      "Epoch 87/180\n",
      "51/51 [==============================] - 1s 13ms/step - loss: 27611.2305 - accuracy: 0.6879 - val_loss: 27600.2754 - val_accuracy: 0.6911\n",
      "Epoch 88/180\n",
      "51/51 [==============================] - 1s 11ms/step - loss: 27566.6367 - accuracy: 0.6873 - val_loss: 27551.8223 - val_accuracy: 0.6985\n",
      "Epoch 89/180\n",
      "51/51 [==============================] - 1s 12ms/step - loss: 27522.0898 - accuracy: 0.6944 - val_loss: 27509.7617 - val_accuracy: 0.7072\n",
      "Epoch 90/180\n",
      "51/51 [==============================] - 1s 10ms/step - loss: 27477.0039 - accuracy: 0.7006 - val_loss: 27463.6797 - val_accuracy: 0.7246\n",
      "Epoch 91/180\n",
      "51/51 [==============================] - 1s 11ms/step - loss: 27432.2637 - accuracy: 0.6991 - val_loss: 27416.0723 - val_accuracy: 0.7208\n",
      "Epoch 92/180\n",
      "51/51 [==============================] - 1s 10ms/step - loss: 27386.8496 - accuracy: 0.7078 - val_loss: 27372.4141 - val_accuracy: 0.7159\n",
      "Epoch 93/180\n",
      "51/51 [==============================] - 0s 10ms/step - loss: 27343.2422 - accuracy: 0.7096 - val_loss: 27326.6445 - val_accuracy: 0.7171\n",
      "Epoch 94/180\n",
      "51/51 [==============================] - 1s 10ms/step - loss: 27296.4082 - accuracy: 0.7140 - val_loss: 27279.0430 - val_accuracy: 0.7196\n",
      "Epoch 95/180\n",
      "51/51 [==============================] - 0s 9ms/step - loss: 27250.7969 - accuracy: 0.7149 - val_loss: 27251.5293 - val_accuracy: 0.7270\n",
      "Epoch 96/180\n",
      "51/51 [==============================] - 0s 9ms/step - loss: 27242.6934 - accuracy: 0.7248 - val_loss: 27187.6328 - val_accuracy: 0.7134\n",
      "Epoch 97/180\n",
      "51/51 [==============================] - 0s 9ms/step - loss: 27159.6992 - accuracy: 0.7031 - val_loss: 27142.6270 - val_accuracy: 0.7196\n",
      "Epoch 98/180\n",
      "51/51 [==============================] - 0s 10ms/step - loss: 27114.5742 - accuracy: 0.7053 - val_loss: 27099.8926 - val_accuracy: 0.7419\n",
      "Epoch 99/180\n",
      "51/51 [==============================] - 0s 9ms/step - loss: 27068.8398 - accuracy: 0.7146 - val_loss: 27051.0449 - val_accuracy: 0.7270\n",
      "Epoch 100/180\n",
      "51/51 [==============================] - 0s 9ms/step - loss: 27022.9199 - accuracy: 0.7186 - val_loss: 27004.6816 - val_accuracy: 0.7295\n",
      "Epoch 101/180\n",
      "51/51 [==============================] - 0s 9ms/step - loss: 26976.9766 - accuracy: 0.7245 - val_loss: 26965.4277 - val_accuracy: 0.7395\n",
      "Epoch 102/180\n",
      "51/51 [==============================] - 0s 9ms/step - loss: 26930.8379 - accuracy: 0.7242 - val_loss: 26916.0156 - val_accuracy: 0.7246\n",
      "Epoch 103/180\n",
      "51/51 [==============================] - 1s 10ms/step - loss: 26884.6699 - accuracy: 0.7261 - val_loss: 26869.5508 - val_accuracy: 0.7506\n",
      "Epoch 104/180\n",
      "51/51 [==============================] - 1s 10ms/step - loss: 26838.4805 - accuracy: 0.7289 - val_loss: 26824.3281 - val_accuracy: 0.7494\n",
      "Epoch 105/180\n",
      "51/51 [==============================] - 0s 9ms/step - loss: 26791.8516 - accuracy: 0.7413 - val_loss: 26776.4023 - val_accuracy: 0.7444\n",
      "Epoch 106/180\n",
      "51/51 [==============================] - 0s 9ms/step - loss: 26745.2305 - accuracy: 0.7512 - val_loss: 26732.6699 - val_accuracy: 0.7581\n",
      "Epoch 107/180\n",
      "51/51 [==============================] - 0s 9ms/step - loss: 26698.4590 - accuracy: 0.7425 - val_loss: 26684.4883 - val_accuracy: 0.7395\n",
      "Epoch 108/180\n",
      "51/51 [==============================] - 0s 9ms/step - loss: 26651.4727 - accuracy: 0.7398 - val_loss: 26635.4941 - val_accuracy: 0.7432\n",
      "Epoch 109/180\n"
     ]
    },
    {
     "name": "stdout",
     "output_type": "stream",
     "text": [
      "51/51 [==============================] - 0s 9ms/step - loss: 26604.4746 - accuracy: 0.7432 - val_loss: 26588.3789 - val_accuracy: 0.7543\n",
      "Epoch 110/180\n",
      "51/51 [==============================] - 0s 9ms/step - loss: 26571.7930 - accuracy: 0.7425 - val_loss: 26539.2480 - val_accuracy: 0.7543\n",
      "Epoch 111/180\n",
      "51/51 [==============================] - 0s 9ms/step - loss: 26510.2227 - accuracy: 0.7435 - val_loss: 26490.7637 - val_accuracy: 0.7543\n",
      "Epoch 112/180\n",
      "51/51 [==============================] - 0s 9ms/step - loss: 26462.4004 - accuracy: 0.7528 - val_loss: 26449.8008 - val_accuracy: 0.7568\n",
      "Epoch 113/180\n",
      "51/51 [==============================] - 0s 9ms/step - loss: 26414.9980 - accuracy: 0.7543 - val_loss: 26400.2441 - val_accuracy: 0.7643\n",
      "Epoch 114/180\n",
      "51/51 [==============================] - 0s 9ms/step - loss: 26367.2754 - accuracy: 0.7537 - val_loss: 26351.3379 - val_accuracy: 0.7556\n",
      "Epoch 115/180\n",
      "51/51 [==============================] - 0s 10ms/step - loss: 26319.2617 - accuracy: 0.7550 - val_loss: 26302.3242 - val_accuracy: 0.7655\n",
      "Epoch 116/180\n",
      "51/51 [==============================] - 1s 11ms/step - loss: 26271.2305 - accuracy: 0.7522 - val_loss: 26261.1836 - val_accuracy: 0.7792\n",
      "Epoch 117/180\n",
      "51/51 [==============================] - 1s 12ms/step - loss: 26223.3848 - accuracy: 0.7665 - val_loss: 26207.4668 - val_accuracy: 0.7506\n",
      "Epoch 118/180\n",
      "51/51 [==============================] - 0s 9ms/step - loss: 26174.9102 - accuracy: 0.7652 - val_loss: 26156.9102 - val_accuracy: 0.7717\n",
      "Epoch 119/180\n",
      "51/51 [==============================] - 1s 11ms/step - loss: 26126.6113 - accuracy: 0.7696 - val_loss: 26107.8691 - val_accuracy: 0.7779\n",
      "Epoch 120/180\n",
      "51/51 [==============================] - 1s 13ms/step - loss: 26078.2812 - accuracy: 0.7649 - val_loss: 26060.2578 - val_accuracy: 0.7543\n",
      "Epoch 121/180\n",
      "51/51 [==============================] - 1s 12ms/step - loss: 26029.5352 - accuracy: 0.7717 - val_loss: 26011.9238 - val_accuracy: 0.7568\n",
      "Epoch 122/180\n",
      "51/51 [==============================] - 1s 16ms/step - loss: 25980.8398 - accuracy: 0.7671 - val_loss: 25963.1113 - val_accuracy: 0.7916\n",
      "Epoch 123/180\n",
      "51/51 [==============================] - 1s 11ms/step - loss: 25932.0371 - accuracy: 0.7851 - val_loss: 25920.4688 - val_accuracy: 0.7779\n",
      "Epoch 124/180\n",
      "51/51 [==============================] - 1s 15ms/step - loss: 25883.2402 - accuracy: 0.7783 - val_loss: 25868.7695 - val_accuracy: 0.7854\n",
      "Epoch 125/180\n",
      "51/51 [==============================] - 1s 14ms/step - loss: 25833.9277 - accuracy: 0.7739 - val_loss: 25814.7734 - val_accuracy: 0.7655\n",
      "Epoch 126/180\n",
      "51/51 [==============================] - 1s 12ms/step - loss: 25784.9590 - accuracy: 0.7789 - val_loss: 25766.0586 - val_accuracy: 0.8015\n",
      "Epoch 127/180\n",
      "51/51 [==============================] - 1s 13ms/step - loss: 25735.4082 - accuracy: 0.7795 - val_loss: 25722.2871 - val_accuracy: 0.7779\n",
      "Epoch 128/180\n",
      "51/51 [==============================] - 1s 12ms/step - loss: 25686.1445 - accuracy: 0.7873 - val_loss: 25667.1211 - val_accuracy: 0.7878\n",
      "Epoch 129/180\n",
      "51/51 [==============================] - 1s 12ms/step - loss: 25636.5645 - accuracy: 0.7966 - val_loss: 25619.0801 - val_accuracy: 0.7978\n",
      "Epoch 130/180\n",
      "51/51 [==============================] - 0s 9ms/step - loss: 25586.9512 - accuracy: 0.7789 - val_loss: 25571.4648 - val_accuracy: 0.8077\n",
      "Epoch 131/180\n",
      "51/51 [==============================] - 1s 12ms/step - loss: 25537.0430 - accuracy: 0.7870 - val_loss: 25524.0156 - val_accuracy: 0.7841\n",
      "Epoch 132/180\n",
      "51/51 [==============================] - 1s 11ms/step - loss: 25487.2852 - accuracy: 0.7938 - val_loss: 25469.1484 - val_accuracy: 0.8089\n",
      "Epoch 133/180\n",
      "51/51 [==============================] - 1s 11ms/step - loss: 25437.1035 - accuracy: 0.8000 - val_loss: 25420.1816 - val_accuracy: 0.8139\n",
      "Epoch 134/180\n",
      "51/51 [==============================] - 1s 11ms/step - loss: 25387.1348 - accuracy: 0.7922 - val_loss: 25369.4844 - val_accuracy: 0.8040\n",
      "Epoch 135/180\n",
      "51/51 [==============================] - 1s 11ms/step - loss: 25336.7773 - accuracy: 0.8003 - val_loss: 25318.6602 - val_accuracy: 0.8114\n",
      "Epoch 136/180\n",
      "51/51 [==============================] - 1s 13ms/step - loss: 25286.7012 - accuracy: 0.8037 - val_loss: 25266.8066 - val_accuracy: 0.7965\n",
      "Epoch 137/180\n",
      "51/51 [==============================] - 1s 14ms/step - loss: 25236.1348 - accuracy: 0.7978 - val_loss: 25216.3145 - val_accuracy: 0.8002\n",
      "Epoch 138/180\n",
      "51/51 [==============================] - 1s 11ms/step - loss: 25185.6836 - accuracy: 0.8016 - val_loss: 25171.9785 - val_accuracy: 0.7928\n",
      "Epoch 139/180\n",
      "51/51 [==============================] - 1s 13ms/step - loss: 25135.0859 - accuracy: 0.8031 - val_loss: 25117.9941 - val_accuracy: 0.8127\n",
      "Epoch 140/180\n",
      "51/51 [==============================] - 1s 12ms/step - loss: 25084.4902 - accuracy: 0.8071 - val_loss: 25068.5078 - val_accuracy: 0.8102\n",
      "Epoch 141/180\n",
      "51/51 [==============================] - 1s 13ms/step - loss: 25033.6738 - accuracy: 0.8071 - val_loss: 25015.5664 - val_accuracy: 0.7990\n",
      "Epoch 142/180\n",
      "51/51 [==============================] - 1s 12ms/step - loss: 24982.8223 - accuracy: 0.8078 - val_loss: 24963.5312 - val_accuracy: 0.8288\n",
      "Epoch 143/180\n",
      "51/51 [==============================] - 1s 10ms/step - loss: 24931.8105 - accuracy: 0.8158 - val_loss: 24919.1074 - val_accuracy: 0.8139\n",
      "Epoch 144/180\n",
      "51/51 [==============================] - 1s 11ms/step - loss: 24880.8789 - accuracy: 0.8146 - val_loss: 24880.3047 - val_accuracy: 0.8313\n",
      "Epoch 145/180\n",
      "51/51 [==============================] - 1s 10ms/step - loss: 24829.8633 - accuracy: 0.8112 - val_loss: 24810.2461 - val_accuracy: 0.8251\n",
      "Epoch 146/180\n",
      "51/51 [==============================] - 1s 11ms/step - loss: 24778.3711 - accuracy: 0.8090 - val_loss: 24764.5586 - val_accuracy: 0.8226\n",
      "Epoch 147/180\n",
      "51/51 [==============================] - 1s 10ms/step - loss: 24726.6914 - accuracy: 0.8220 - val_loss: 24710.6719 - val_accuracy: 0.8313\n",
      "Epoch 148/180\n",
      "51/51 [==============================] - 1s 10ms/step - loss: 24675.3242 - accuracy: 0.8158 - val_loss: 24658.3184 - val_accuracy: 0.8189\n",
      "Epoch 149/180\n",
      "51/51 [==============================] - 1s 10ms/step - loss: 24624.0645 - accuracy: 0.8152 - val_loss: 24607.6855 - val_accuracy: 0.8499\n",
      "Epoch 150/180\n",
      "51/51 [==============================] - 1s 10ms/step - loss: 24572.4668 - accuracy: 0.8149 - val_loss: 24556.7988 - val_accuracy: 0.8424\n",
      "Epoch 151/180\n",
      "51/51 [==============================] - 1s 11ms/step - loss: 24520.6758 - accuracy: 0.8239 - val_loss: 24501.8379 - val_accuracy: 0.8350\n",
      "Epoch 152/180\n",
      "51/51 [==============================] - 1s 13ms/step - loss: 24469.6719 - accuracy: 0.8149 - val_loss: 24449.0332 - val_accuracy: 0.8375\n",
      "Epoch 153/180\n",
      "51/51 [==============================] - 1s 13ms/step - loss: 24417.2500 - accuracy: 0.8211 - val_loss: 24395.0938 - val_accuracy: 0.8002\n",
      "Epoch 154/180\n",
      "51/51 [==============================] - 1s 11ms/step - loss: 24365.2988 - accuracy: 0.8217 - val_loss: 24346.5293 - val_accuracy: 0.8412\n",
      "Epoch 155/180\n",
      "51/51 [==============================] - 1s 10ms/step - loss: 24320.9863 - accuracy: 0.8106 - val_loss: 24295.6953 - val_accuracy: 0.8424\n",
      "Epoch 156/180\n",
      "51/51 [==============================] - 1s 10ms/step - loss: 24261.8418 - accuracy: 0.8236 - val_loss: 24244.1074 - val_accuracy: 0.8462\n",
      "Epoch 157/180\n",
      "51/51 [==============================] - 1s 11ms/step - loss: 24210.2109 - accuracy: 0.8137 - val_loss: 24189.5566 - val_accuracy: 0.8213\n",
      "Epoch 158/180\n",
      "51/51 [==============================] - 1s 11ms/step - loss: 24158.6914 - accuracy: 0.8174 - val_loss: 24142.3945 - val_accuracy: 0.8300\n",
      "Epoch 159/180\n",
      "51/51 [==============================] - 1s 12ms/step - loss: 24106.8242 - accuracy: 0.8224 - val_loss: 24091.7168 - val_accuracy: 0.8238\n",
      "Epoch 160/180\n",
      "51/51 [==============================] - 1s 11ms/step - loss: 24054.8281 - accuracy: 0.8186 - val_loss: 24038.5156 - val_accuracy: 0.8275\n",
      "Epoch 161/180\n",
      "51/51 [==============================] - 0s 9ms/step - loss: 24002.9160 - accuracy: 0.8270 - val_loss: 23986.2031 - val_accuracy: 0.8337\n",
      "Epoch 162/180\n",
      "51/51 [==============================] - 0s 9ms/step - loss: 23950.6016 - accuracy: 0.8267 - val_loss: 23931.1133 - val_accuracy: 0.8313\n",
      "Epoch 163/180\n"
     ]
    },
    {
     "name": "stdout",
     "output_type": "stream",
     "text": [
      "51/51 [==============================] - 1s 11ms/step - loss: 23898.5332 - accuracy: 0.8295 - val_loss: 23878.0430 - val_accuracy: 0.8400\n",
      "Epoch 164/180\n",
      "51/51 [==============================] - 1s 10ms/step - loss: 23846.5488 - accuracy: 0.8348 - val_loss: 23830.7539 - val_accuracy: 0.8337\n",
      "Epoch 165/180\n",
      "51/51 [==============================] - 1s 10ms/step - loss: 23793.8828 - accuracy: 0.8363 - val_loss: 23777.7402 - val_accuracy: 0.8325\n",
      "Epoch 166/180\n",
      "51/51 [==============================] - 0s 9ms/step - loss: 23741.7598 - accuracy: 0.8261 - val_loss: 23723.5527 - val_accuracy: 0.8077\n",
      "Epoch 167/180\n",
      "51/51 [==============================] - 0s 8ms/step - loss: 23689.6016 - accuracy: 0.8317 - val_loss: 23672.3242 - val_accuracy: 0.8524\n",
      "Epoch 168/180\n",
      "51/51 [==============================] - 0s 8ms/step - loss: 23636.9980 - accuracy: 0.8295 - val_loss: 23617.4922 - val_accuracy: 0.8449\n",
      "Epoch 169/180\n",
      "51/51 [==============================] - 0s 8ms/step - loss: 23584.1992 - accuracy: 0.8307 - val_loss: 23566.9727 - val_accuracy: 0.8176\n",
      "Epoch 170/180\n",
      "51/51 [==============================] - 0s 9ms/step - loss: 23531.5605 - accuracy: 0.8379 - val_loss: 23514.2656 - val_accuracy: 0.8288\n",
      "Epoch 171/180\n",
      "51/51 [==============================] - 0s 9ms/step - loss: 23478.9219 - accuracy: 0.8348 - val_loss: 23458.5996 - val_accuracy: 0.8387\n",
      "Epoch 172/180\n",
      "51/51 [==============================] - 0s 9ms/step - loss: 23426.0898 - accuracy: 0.8326 - val_loss: 23405.9297 - val_accuracy: 0.8449\n",
      "Epoch 173/180\n",
      "51/51 [==============================] - 0s 9ms/step - loss: 23373.5625 - accuracy: 0.8335 - val_loss: 23356.8828 - val_accuracy: 0.8462\n",
      "Epoch 174/180\n",
      "51/51 [==============================] - 0s 10ms/step - loss: 23320.5391 - accuracy: 0.8413 - val_loss: 23299.0996 - val_accuracy: 0.8065\n",
      "Epoch 175/180\n",
      "51/51 [==============================] - 0s 9ms/step - loss: 23267.5176 - accuracy: 0.8394 - val_loss: 23250.9727 - val_accuracy: 0.8511\n",
      "Epoch 176/180\n",
      "51/51 [==============================] - 0s 9ms/step - loss: 23214.4668 - accuracy: 0.8401 - val_loss: 23194.8359 - val_accuracy: 0.8499\n",
      "Epoch 177/180\n",
      "51/51 [==============================] - 1s 10ms/step - loss: 23161.5410 - accuracy: 0.8320 - val_loss: 23144.5312 - val_accuracy: 0.8474\n",
      "Epoch 178/180\n",
      "51/51 [==============================] - 1s 11ms/step - loss: 23108.2930 - accuracy: 0.8373 - val_loss: 23094.4844 - val_accuracy: 0.8586\n",
      "Epoch 179/180\n",
      "51/51 [==============================] - 0s 9ms/step - loss: 23055.1328 - accuracy: 0.8388 - val_loss: 23032.3418 - val_accuracy: 0.8437\n",
      "Epoch 180/180\n",
      "51/51 [==============================] - 0s 9ms/step - loss: 23001.9922 - accuracy: 0.8270 - val_loss: 22983.1992 - val_accuracy: 0.8288\n"
     ]
    }
   ],
   "source": [
    "modelo = red_bayesiana(X_train)\n",
    "history1 = modelo.fit(X_train, y_train, batch_size = 64 , validation_data=(X_val,y_val), epochs = 180)"
   ]
  },
  {
   "cell_type": "code",
   "execution_count": 79,
   "metadata": {},
   "outputs": [
    {
     "name": "stdout",
     "output_type": "stream",
     "text": [
      "Model: \"sequential_17\"\n",
      "_________________________________________________________________\n",
      " Layer (type)                Output Shape              Param #   \n",
      "=================================================================\n",
      " flatten_17 (Flatten)        (None, 1764)              0         \n",
      "                                                                 \n",
      " dense_flipout_28 (DenseFlip  (None, 64)               225856    \n",
      " out)                                                            \n",
      "                                                                 \n",
      " dense_flipout_29 (DenseFlip  (None, 64)               8256      \n",
      " out)                                                            \n",
      "                                                                 \n",
      " dense_flipout_30 (DenseFlip  (None, 64)               8256      \n",
      " out)                                                            \n",
      "                                                                 \n",
      " dense_flipout_31 (DenseFlip  (None, 2)                258       \n",
      " out)                                                            \n",
      "                                                                 \n",
      "=================================================================\n",
      "Total params: 242,626\n",
      "Trainable params: 242,626\n",
      "Non-trainable params: 0\n",
      "_________________________________________________________________\n"
     ]
    }
   ],
   "source": [
    "modelo.summary()"
   ]
  },
  {
   "cell_type": "code",
   "execution_count": 80,
   "metadata": {
    "colab": {
     "base_uri": "https://localhost:8080/",
     "height": 295
    },
    "id": "Np0SmApOR196",
    "outputId": "9fe235cd-44b0-45f3-f121-aac9e256607d"
   },
   "outputs": [
    {
     "data": {
      "text/plain": [
       "<matplotlib.legend.Legend at 0x158ffbcdc40>"
      ]
     },
     "execution_count": 80,
     "metadata": {},
     "output_type": "execute_result"
    },
    {
     "data": {
      "image/png": "[encoded data removed]",
      "text/plain": [
       "<Figure size 576x216 with 2 Axes>"
      ]
     },
     "metadata": {
      "needs_background": "light"
     },
     "output_type": "display_data"
    }
   ],
   "source": [
    "plt.figure(figsize=(8,3))\n",
    "plt.subplot(1,2,1)\n",
    "plt.plot(history1.history['accuracy'])  \n",
    "plt.plot(history1.history['val_accuracy'])  \n",
    "plt.xlabel(\"Num of Epochs\")  \n",
    "plt.ylabel(\"accuracy\")  \n",
    "plt.title(\"Training accuracy vs Validation accuracy\")  \n",
    "plt.legend(['train','validation'])\n",
    "\n",
    "plt.subplot(1,2,2) \n",
    "plt.plot(history1.history['loss'])  \n",
    "plt.plot(history1.history['val_loss'])  \n",
    "plt.xlabel(\"Num of Epochs\")  \n",
    "plt.ylabel(\"Loss\")  \n",
    "plt.title(\"Training Loss vs Validation Loss\")  \n",
    "plt.legend(['train','validation'])"
   ]
  },
  {
   "cell_type": "code",
   "execution_count": 73,
   "metadata": {
    "colab": {
     "base_uri": "https://localhost:8080/",
     "height": 295
    },
    "id": "BWznsWmtYR_Z",
    "outputId": "53560ffc-5af3-4506-ef7e-91587a48ac30"
   },
   "outputs": [
    {
     "data": {
      "image/png": "[encoded data removed]",
      "text/plain": [
       "<Figure size 432x288 with 1 Axes>"
      ]
     },
     "metadata": {
      "needs_background": "light"
     },
     "output_type": "display_data"
    }
   ],
   "source": [
    "import matplotlib.pyplot as plt\n",
    "\n",
    "plt.plot(history1.history['accuracy'])\n",
    "plt.plot(history1.history['val_accuracy'])\n",
    "plt.title('Exactitud')\n",
    "plt.ylabel('Exactitud')\n",
    "plt.xlabel('Epoca')\n",
    "plt.legend(['Entrenamiento', 'Validación'])\n",
    "plt.show()"
   ]
  },
  {
   "cell_type": "markdown",
   "metadata": {
    "id": "pEqwFAb2Jb-b"
   },
   "source": [
    "### Certeza de la predicción\n",
    "Evaluaremos nuestro modelo utilizando 100 muestras, para ello analizaremos tanto la media como deviación estandar de cada predicción."
   ]
  },
  {
   "cell_type": "code",
   "execution_count": 152,
   "metadata": {
    "colab": {
     "base_uri": "https://localhost:8080/",
     "height": 1000
    },
    "id": "KzsEHdodJtzn",
    "outputId": "e652a1b3-3d50-43a3-8dff-2a414980177b",
    "scrolled": true
   },
   "outputs": [
    {
     "name": "stdout",
     "output_type": "stream",
     "text": [
      "1/1 [==============================] - 0s 20ms/step\n",
      "1/1 [==============================] - 0s 28ms/step\n",
      "1/1 [==============================] - 0s 20ms/step\n",
      "1/1 [==============================] - 0s 24ms/step\n",
      "1/1 [==============================] - 0s 24ms/step\n",
      "1/1 [==============================] - 0s 23ms/step\n",
      "1/1 [==============================] - 0s 23ms/step\n",
      "1/1 [==============================] - 0s 20ms/step\n",
      "1/1 [==============================] - 0s 28ms/step\n",
      "1/1 [==============================] - 0s 24ms/step\n",
      "1/1 [==============================] - 0s 28ms/step\n",
      "1/1 [==============================] - 0s 26ms/step\n",
      "1/1 [==============================] - 0s 28ms/step\n",
      "1/1 [==============================] - 0s 27ms/step\n",
      "1/1 [==============================] - 0s 28ms/step\n",
      "1/1 [==============================] - 0s 27ms/step\n",
      "1/1 [==============================] - 0s 36ms/step\n",
      "1/1 [==============================] - 0s 27ms/step\n",
      "1/1 [==============================] - 0s 32ms/step\n",
      "1/1 [==============================] - 0s 28ms/step\n",
      "1/1 [==============================] - 0s 28ms/step\n",
      "1/1 [==============================] - 0s 32ms/step\n",
      "1/1 [==============================] - 0s 24ms/step\n",
      "1/1 [==============================] - 0s 20ms/step\n",
      "1/1 [==============================] - 0s 24ms/step\n",
      "1/1 [==============================] - 0s 28ms/step\n",
      "1/1 [==============================] - 0s 29ms/step\n",
      "1/1 [==============================] - 0s 28ms/step\n",
      "1/1 [==============================] - 0s 31ms/step\n",
      "1/1 [==============================] - 0s 23ms/step\n",
      "1/1 [==============================] - 0s 19ms/step\n",
      "1/1 [==============================] - 0s 20ms/step\n",
      "1/1 [==============================] - 0s 31ms/step\n",
      "1/1 [==============================] - 0s 30ms/step\n",
      "1/1 [==============================] - 0s 22ms/step\n",
      "1/1 [==============================] - 0s 19ms/step\n",
      "1/1 [==============================] - 0s 28ms/step\n",
      "1/1 [==============================] - 0s 29ms/step\n",
      "1/1 [==============================] - 0s 20ms/step\n",
      "1/1 [==============================] - 0s 25ms/step\n",
      "1/1 [==============================] - 0s 20ms/step\n",
      "1/1 [==============================] - 0s 21ms/step\n",
      "1/1 [==============================] - 0s 26ms/step\n",
      "1/1 [==============================] - 0s 22ms/step\n",
      "1/1 [==============================] - 0s 25ms/step\n",
      "1/1 [==============================] - 0s 30ms/step\n",
      "1/1 [==============================] - 0s 30ms/step\n",
      "1/1 [==============================] - 0s 30ms/step\n",
      "1/1 [==============================] - 0s 32ms/step\n",
      "1/1 [==============================] - 0s 23ms/step\n",
      "1/1 [==============================] - 0s 32ms/step\n",
      "1/1 [==============================] - 0s 31ms/step\n",
      "1/1 [==============================] - 0s 37ms/step\n",
      "1/1 [==============================] - 0s 29ms/step\n",
      "1/1 [==============================] - 0s 22ms/step\n",
      "1/1 [==============================] - 0s 23ms/step\n",
      "1/1 [==============================] - 0s 29ms/step\n",
      "1/1 [==============================] - 0s 26ms/step\n",
      "1/1 [==============================] - 0s 27ms/step\n",
      "1/1 [==============================] - 0s 28ms/step\n",
      "1/1 [==============================] - 0s 24ms/step\n",
      "1/1 [==============================] - 0s 29ms/step\n",
      "1/1 [==============================] - 0s 25ms/step\n",
      "1/1 [==============================] - 0s 22ms/step\n",
      "1/1 [==============================] - 0s 40ms/step\n",
      "1/1 [==============================] - 0s 30ms/step\n",
      "1/1 [==============================] - 0s 30ms/step\n",
      "1/1 [==============================] - 0s 31ms/step\n",
      "1/1 [==============================] - 0s 20ms/step\n",
      "1/1 [==============================] - 0s 29ms/step\n",
      "1/1 [==============================] - 0s 28ms/step\n",
      "1/1 [==============================] - 0s 20ms/step\n",
      "1/1 [==============================] - 0s 19ms/step\n",
      "1/1 [==============================] - 0s 22ms/step\n",
      "1/1 [==============================] - 0s 17ms/step\n",
      "1/1 [==============================] - 0s 28ms/step\n",
      "1/1 [==============================] - 0s 24ms/step\n",
      "1/1 [==============================] - 0s 24ms/step\n",
      "1/1 [==============================] - 0s 19ms/step\n",
      "1/1 [==============================] - 0s 16ms/step\n",
      "1/1 [==============================] - 0s 20ms/step\n",
      "1/1 [==============================] - 0s 25ms/step\n",
      "1/1 [==============================] - 0s 24ms/step\n",
      "1/1 [==============================] - 0s 23ms/step\n",
      "1/1 [==============================] - 0s 27ms/step\n",
      "1/1 [==============================] - 0s 24ms/step\n",
      "1/1 [==============================] - 0s 26ms/step\n",
      "1/1 [==============================] - 0s 25ms/step\n",
      "1/1 [==============================] - 0s 25ms/step\n",
      "1/1 [==============================] - 0s 24ms/step\n",
      "1/1 [==============================] - 0s 25ms/step\n",
      "1/1 [==============================] - 0s 22ms/step\n",
      "1/1 [==============================] - 0s 27ms/step\n",
      "1/1 [==============================] - 0s 24ms/step\n",
      "1/1 [==============================] - 0s 27ms/step\n",
      "1/1 [==============================] - 0s 25ms/step\n",
      "1/1 [==============================] - 0s 25ms/step\n",
      "1/1 [==============================] - 0s 25ms/step\n",
      "1/1 [==============================] - 0s 22ms/step\n",
      "1/1 [==============================] - 0s 21ms/step\n",
      "1/1 [==============================] - 0s 23ms/step\n",
      "1/1 [==============================] - 0s 24ms/step\n",
      "1/1 [==============================] - 0s 22ms/step\n",
      "1/1 [==============================] - 0s 23ms/step\n",
      "1/1 [==============================] - 0s 25ms/step\n",
      "1/1 [==============================] - 0s 25ms/step\n",
      "1/1 [==============================] - 0s 26ms/step\n",
      "1/1 [==============================] - 0s 23ms/step\n",
      "1/1 [==============================] - 0s 23ms/step\n",
      "1/1 [==============================] - 0s 23ms/step\n",
      "1/1 [==============================] - 0s 24ms/step\n",
      "1/1 [==============================] - 0s 22ms/step\n",
      "1/1 [==============================] - 0s 26ms/step\n",
      "1/1 [==============================] - 0s 26ms/step\n",
      "1/1 [==============================] - 0s 22ms/step\n",
      "1/1 [==============================] - 0s 21ms/step\n",
      "1/1 [==============================] - 0s 22ms/step\n",
      "1/1 [==============================] - 0s 22ms/step\n",
      "1/1 [==============================] - 0s 24ms/step\n",
      "1/1 [==============================] - 0s 24ms/step\n",
      "1/1 [==============================] - 0s 25ms/step\n",
      "1/1 [==============================] - 0s 22ms/step\n",
      "1/1 [==============================] - 0s 22ms/step\n",
      "1/1 [==============================] - 0s 21ms/step\n",
      "1/1 [==============================] - 0s 22ms/step\n",
      "1/1 [==============================] - 0s 21ms/step\n",
      "1/1 [==============================] - 0s 22ms/step\n",
      "1/1 [==============================] - 0s 23ms/step\n",
      "1/1 [==============================] - 0s 22ms/step\n",
      "1/1 [==============================] - 0s 23ms/step\n",
      "1/1 [==============================] - 0s 27ms/step\n",
      "1/1 [==============================] - 0s 25ms/step\n",
      "1/1 [==============================] - 0s 30ms/step\n",
      "1/1 [==============================] - 0s 24ms/step\n",
      "1/1 [==============================] - 0s 23ms/step\n",
      "1/1 [==============================] - 0s 22ms/step\n",
      "1/1 [==============================] - 0s 21ms/step\n",
      "1/1 [==============================] - 0s 24ms/step\n",
      "1/1 [==============================] - 0s 22ms/step\n",
      "1/1 [==============================] - 0s 24ms/step\n",
      "1/1 [==============================] - 0s 22ms/step\n",
      "1/1 [==============================] - 0s 26ms/step\n",
      "1/1 [==============================] - 0s 30ms/step\n",
      "1/1 [==============================] - 0s 30ms/step\n",
      "1/1 [==============================] - 0s 30ms/step\n",
      "1/1 [==============================] - 0s 25ms/step\n",
      "1/1 [==============================] - 0s 27ms/step\n",
      "1/1 [==============================] - 0s 29ms/step\n",
      "1/1 [==============================] - 0s 26ms/step\n",
      "1/1 [==============================] - 0s 29ms/step\n",
      "1/1 [==============================] - 0s 24ms/step\n",
      "1/1 [==============================] - 0s 22ms/step\n",
      "1/1 [==============================] - 0s 23ms/step\n",
      "1/1 [==============================] - 0s 22ms/step\n",
      "1/1 [==============================] - 0s 23ms/step\n",
      "1/1 [==============================] - 0s 24ms/step\n",
      "1/1 [==============================] - 0s 22ms/step\n",
      "1/1 [==============================] - 0s 23ms/step\n",
      "1/1 [==============================] - 0s 24ms/step\n",
      "1/1 [==============================] - 0s 24ms/step\n",
      "1/1 [==============================] - 0s 23ms/step\n",
      "1/1 [==============================] - 0s 25ms/step\n",
      "1/1 [==============================] - 0s 22ms/step\n",
      "1/1 [==============================] - 0s 24ms/step\n",
      "1/1 [==============================] - 0s 24ms/step\n",
      "1/1 [==============================] - 0s 23ms/step\n",
      "1/1 [==============================] - 0s 22ms/step\n",
      "1/1 [==============================] - 0s 23ms/step\n",
      "1/1 [==============================] - 0s 23ms/step\n",
      "1/1 [==============================] - 0s 24ms/step\n",
      "1/1 [==============================] - 0s 23ms/step\n",
      "1/1 [==============================] - 0s 25ms/step\n",
      "1/1 [==============================] - 0s 19ms/step\n",
      "1/1 [==============================] - 0s 20ms/step\n",
      "1/1 [==============================] - 0s 26ms/step\n",
      "1/1 [==============================] - 0s 21ms/step\n",
      "1/1 [==============================] - 0s 29ms/step\n",
      "1/1 [==============================] - 0s 20ms/step\n",
      "1/1 [==============================] - 0s 20ms/step\n",
      "1/1 [==============================] - 0s 26ms/step\n",
      "1/1 [==============================] - 0s 22ms/step\n",
      "1/1 [==============================] - 0s 26ms/step\n",
      "1/1 [==============================] - 0s 20ms/step\n",
      "1/1 [==============================] - 0s 28ms/step\n",
      "1/1 [==============================] - 0s 30ms/step\n",
      "1/1 [==============================] - 0s 20ms/step\n",
      "1/1 [==============================] - 0s 20ms/step\n",
      "1/1 [==============================] - 0s 20ms/step\n",
      "1/1 [==============================] - 0s 25ms/step\n",
      "1/1 [==============================] - 0s 27ms/step\n",
      "1/1 [==============================] - 0s 26ms/step\n",
      "1/1 [==============================] - 0s 22ms/step\n",
      "1/1 [==============================] - 0s 28ms/step\n",
      "1/1 [==============================] - 0s 18ms/step\n",
      "1/1 [==============================] - 0s 20ms/step\n",
      "1/1 [==============================] - 0s 30ms/step\n",
      "1/1 [==============================] - 0s 19ms/step\n",
      "1/1 [==============================] - 0s 25ms/step\n",
      "1/1 [==============================] - 0s 20ms/step\n",
      "1/1 [==============================] - 0s 20ms/step\n"
     ]
    }
   ],
   "source": [
    "samplear = 100\n",
    "ejemplos = 10\n",
    "pred = []\n",
    "pred_clasificador = []\n",
    "modelo_bayesiano = modelo\n",
    "for i in range(samplear):\n",
    "    aux = modelo_bayesiano.predict(x_test[:ejemplos,:,:])\n",
    "    predict = np.array([np.argmax(p) for p in aux]).reshape(10,1)\n",
    "    aux1 = model.predict(x_test[:ejemplos,:,:])\n",
    "    predict1 = np.array([np.argmax(p) for p in aux1]).reshape(10,1)\n",
    "    pred.append(predict)\n",
    "    pred_clasificador.append(predict1)\n",
    "pred = np.concatenate(pred, axis=1)\n",
    "\n",
    "pred_clasificador = np.concatenate(pred_clasificador, axis=1)\n"
   ]
  },
  {
   "cell_type": "code",
   "execution_count": 153,
   "metadata": {},
   "outputs": [
    {
     "data": {
      "image/png": "[encoded data removed]",
      "text/plain": [
       "<Figure size 2160x288 with 4 Axes>"
      ]
     },
     "metadata": {
      "needs_background": "light"
     },
     "output_type": "display_data"
    }
   ],
   "source": [
    "pred_mean = np.mean(pred, axis=1).tolist()\n",
    "pred_std = np.std(pred, axis=1).tolist()\n",
    "pred_clasificador_mean = np.mean(pred_clasificador, axis=1).tolist()\n",
    "\n",
    "plt.figure(figsize=(30, 4))\n",
    "\n",
    "for i in range(1,5):\n",
    "    # Imagen Original\n",
    "    ax = plt.subplot(2, 10, i)   \n",
    "    plt.imshow(x_test[i,:,:, 0], cmap='gray')\n",
    "    ax.set_xlabel(f' Etiqueta: {y_test[i]}\\n Media prediccion VAE: {pred_mean[i]} \\n Desv. Est. VAE: {round(pred_std[i],2)}\\n Prediccion Clasificador: {pred_clasificador_mean[i]}')\n",
    "\n",
    "\n",
    "plt.show()"
   ]
  },
  {
   "cell_type": "code",
   "execution_count": 154,
   "metadata": {},
   "outputs": [
    {
     "data": {
      "image/png": "[encoded data removed]",
      "text/plain": [
       "<Figure size 2160x288 with 4 Axes>"
      ]
     },
     "metadata": {
      "needs_background": "light"
     },
     "output_type": "display_data"
    }
   ],
   "source": [
    "plt.figure(figsize=(30, 4))\n",
    "\n",
    "for i in range(5,9):\n",
    "    # Imagen Original\n",
    "    ax = plt.subplot(2, 10, i)   \n",
    "    plt.imshow(x_test[i,:,:, 0], cmap='gray')\n",
    "    ax.set_xlabel(f' Etiqueta: {y_test[i]}\\n Media prediccion VAE: {pred_mean[i]} \\n Desv. Est. VAE: {round(pred_std[i],2)}\\n Prediccion Clasificador: {pred_clasificador_mean[i]}')\n",
    "\n",
    "plt.show()"
   ]
  },
  {
   "cell_type": "markdown",
   "metadata": {
    "id": "Sb9YzN4TZzkc"
   },
   "source": [
    "### Histogramas para cada clase"
   ]
  },
  {
   "cell_type": "code",
   "execution_count": 180,
   "metadata": {
    "id": "YVw_vRFLHnC8"
   },
   "outputs": [],
   "source": [
    "clases = []\n",
    "for i in range(10):\n",
    "    clases.append(x_test[y_test == i])"
   ]
  },
  {
   "cell_type": "code",
   "execution_count": 148,
   "metadata": {
    "id": "5o2Lb-p5Z8Hs"
   },
   "outputs": [
    {
     "name": "stdout",
     "output_type": "stream",
     "text": [
      "17/17 [==============================] - 0s 5ms/step\n",
      "17/17 [==============================] - 0s 5ms/step\n",
      "17/17 [==============================] - 0s 5ms/step\n",
      "17/17 [==============================] - 0s 6ms/step\n",
      "17/17 [==============================] - 0s 6ms/step\n",
      "17/17 [==============================] - 0s 6ms/step\n",
      "17/17 [==============================] - 0s 7ms/step\n",
      "17/17 [==============================] - 0s 6ms/step\n",
      "17/17 [==============================] - 0s 6ms/step\n",
      "17/17 [==============================] - 0s 6ms/step\n",
      "17/17 [==============================] - 0s 6ms/step\n",
      "17/17 [==============================] - 0s 5ms/step\n",
      "17/17 [==============================] - 0s 6ms/step\n",
      "17/17 [==============================] - 0s 6ms/step\n",
      "17/17 [==============================] - 0s 6ms/step\n",
      "17/17 [==============================] - 0s 8ms/step\n",
      "17/17 [==============================] - 0s 8ms/step\n",
      "17/17 [==============================] - 0s 7ms/step\n",
      "17/17 [==============================] - 0s 7ms/step\n",
      "17/17 [==============================] - 0s 6ms/step\n",
      "17/17 [==============================] - 0s 7ms/step\n",
      "17/17 [==============================] - 0s 7ms/step\n",
      "17/17 [==============================] - 0s 6ms/step\n",
      "17/17 [==============================] - 0s 6ms/step\n",
      "17/17 [==============================] - 0s 7ms/step\n",
      "17/17 [==============================] - 0s 5ms/step\n",
      "17/17 [==============================] - 0s 5ms/step\n",
      "17/17 [==============================] - 0s 5ms/step\n",
      "17/17 [==============================] - 0s 9ms/step\n",
      "17/17 [==============================] - 0s 6ms/step\n",
      "17/17 [==============================] - 0s 8ms/step\n",
      "17/17 [==============================] - 0s 5ms/step\n",
      "17/17 [==============================] - 0s 5ms/step\n",
      "17/17 [==============================] - 0s 5ms/step\n",
      "17/17 [==============================] - 0s 6ms/step\n",
      "17/17 [==============================] - 0s 6ms/step\n",
      "17/17 [==============================] - 0s 11ms/step\n",
      "17/17 [==============================] - 0s 8ms/step\n",
      "17/17 [==============================] - 0s 7ms/step\n",
      "17/17 [==============================] - 0s 8ms/step\n",
      "17/17 [==============================] - 0s 7ms/step\n",
      "17/17 [==============================] - 0s 7ms/step\n",
      "17/17 [==============================] - 0s 8ms/step\n",
      "17/17 [==============================] - 0s 7ms/step\n",
      "17/17 [==============================] - 0s 7ms/step\n",
      "17/17 [==============================] - 0s 6ms/step\n",
      "17/17 [==============================] - 0s 6ms/step\n",
      "17/17 [==============================] - 0s 8ms/step\n",
      "17/17 [==============================] - 0s 8ms/step\n",
      "17/17 [==============================] - 0s 7ms/step\n",
      "17/17 [==============================] - 0s 9ms/step\n",
      "17/17 [==============================] - 0s 7ms/step\n",
      "17/17 [==============================] - 0s 7ms/step\n",
      "17/17 [==============================] - 0s 7ms/step\n",
      "17/17 [==============================] - 0s 6ms/step\n",
      "17/17 [==============================] - 0s 5ms/step\n",
      "17/17 [==============================] - 0s 5ms/step\n",
      "17/17 [==============================] - 0s 5ms/step\n",
      "17/17 [==============================] - 0s 5ms/step\n",
      "17/17 [==============================] - 0s 5ms/step\n",
      "17/17 [==============================] - 0s 6ms/step\n",
      "17/17 [==============================] - 0s 6ms/step\n",
      "17/17 [==============================] - 0s 6ms/step\n",
      "17/17 [==============================] - 0s 5ms/step\n",
      "17/17 [==============================] - 0s 5ms/step\n",
      "17/17 [==============================] - 0s 5ms/step\n",
      "17/17 [==============================] - 0s 5ms/step\n",
      "17/17 [==============================] - 0s 5ms/step\n",
      "17/17 [==============================] - 0s 6ms/step\n",
      "17/17 [==============================] - 0s 7ms/step\n",
      "17/17 [==============================] - 0s 6ms/step\n",
      "17/17 [==============================] - 0s 6ms/step\n",
      "17/17 [==============================] - 0s 6ms/step\n",
      "17/17 [==============================] - 0s 5ms/step\n",
      "17/17 [==============================] - 0s 5ms/step\n",
      "17/17 [==============================] - 0s 6ms/step\n",
      "17/17 [==============================] - 0s 5ms/step\n",
      "17/17 [==============================] - 0s 5ms/step\n",
      "17/17 [==============================] - 0s 5ms/step\n",
      "17/17 [==============================] - 0s 5ms/step\n",
      "17/17 [==============================] - 0s 5ms/step\n",
      "17/17 [==============================] - 0s 7ms/step\n",
      "17/17 [==============================] - 0s 9ms/step\n",
      "17/17 [==============================] - 0s 8ms/step\n",
      "17/17 [==============================] - 0s 7ms/step\n",
      "17/17 [==============================] - 0s 7ms/step\n",
      "17/17 [==============================] - 0s 7ms/step\n",
      "17/17 [==============================] - 0s 6ms/step\n",
      "17/17 [==============================] - 0s 6ms/step\n",
      "17/17 [==============================] - 0s 6ms/step\n",
      "17/17 [==============================] - 0s 7ms/step\n",
      "17/17 [==============================] - 0s 7ms/step\n",
      "17/17 [==============================] - 0s 5ms/step\n",
      "17/17 [==============================] - 0s 5ms/step\n",
      "17/17 [==============================] - 0s 5ms/step\n",
      "17/17 [==============================] - 0s 5ms/step\n",
      "17/17 [==============================] - 0s 5ms/step\n",
      "17/17 [==============================] - 0s 5ms/step\n",
      "17/17 [==============================] - 0s 5ms/step\n",
      "17/17 [==============================] - 0s 5ms/step\n",
      "16/16 [==============================] - 0s 5ms/step\n",
      "16/16 [==============================] - 0s 5ms/step\n",
      "16/16 [==============================] - 0s 5ms/step\n",
      "16/16 [==============================] - 0s 5ms/step\n",
      "16/16 [==============================] - 0s 5ms/step\n",
      "16/16 [==============================] - 0s 7ms/step\n",
      "16/16 [==============================] - 0s 7ms/step\n",
      "16/16 [==============================] - 0s 5ms/step\n",
      "16/16 [==============================] - 0s 5ms/step\n",
      "16/16 [==============================] - 0s 5ms/step\n",
      "16/16 [==============================] - 0s 5ms/step\n",
      "16/16 [==============================] - 0s 5ms/step\n",
      "16/16 [==============================] - 0s 5ms/step\n",
      "16/16 [==============================] - 0s 5ms/step\n",
      "16/16 [==============================] - 0s 5ms/step\n",
      "16/16 [==============================] - 0s 5ms/step\n",
      "16/16 [==============================] - 0s 5ms/step\n",
      "16/16 [==============================] - 0s 5ms/step\n",
      "16/16 [==============================] - 0s 5ms/step\n",
      "16/16 [==============================] - 0s 5ms/step\n",
      "16/16 [==============================] - 0s 5ms/step\n",
      "16/16 [==============================] - 0s 5ms/step\n",
      "16/16 [==============================] - 0s 5ms/step\n",
      "16/16 [==============================] - 0s 5ms/step\n",
      "16/16 [==============================] - 0s 5ms/step\n",
      "16/16 [==============================] - 0s 5ms/step\n",
      "16/16 [==============================] - 0s 5ms/step\n",
      "16/16 [==============================] - 0s 5ms/step\n",
      "16/16 [==============================] - 0s 5ms/step\n",
      "16/16 [==============================] - 0s 5ms/step\n",
      "16/16 [==============================] - 0s 5ms/step\n",
      "16/16 [==============================] - 0s 5ms/step\n",
      "16/16 [==============================] - 0s 5ms/step\n",
      "16/16 [==============================] - 0s 5ms/step\n",
      "16/16 [==============================] - 0s 5ms/step\n",
      "16/16 [==============================] - 0s 5ms/step\n",
      "16/16 [==============================] - 0s 5ms/step\n",
      "16/16 [==============================] - 0s 5ms/step\n",
      "16/16 [==============================] - 0s 5ms/step\n",
      "16/16 [==============================] - 0s 5ms/step\n",
      "16/16 [==============================] - 0s 5ms/step\n",
      "16/16 [==============================] - 0s 5ms/step\n",
      "16/16 [==============================] - 0s 5ms/step\n",
      "16/16 [==============================] - 0s 5ms/step\n",
      "16/16 [==============================] - 0s 5ms/step\n",
      "16/16 [==============================] - 0s 5ms/step\n",
      "16/16 [==============================] - 0s 5ms/step\n",
      "16/16 [==============================] - 0s 5ms/step\n",
      "16/16 [==============================] - 0s 5ms/step\n",
      "16/16 [==============================] - 0s 5ms/step\n",
      "16/16 [==============================] - 0s 5ms/step\n",
      "16/16 [==============================] - 0s 5ms/step\n",
      "16/16 [==============================] - 0s 5ms/step\n",
      "16/16 [==============================] - 0s 5ms/step\n",
      "16/16 [==============================] - 0s 5ms/step\n",
      "16/16 [==============================] - 0s 5ms/step\n",
      "16/16 [==============================] - 0s 5ms/step\n",
      "16/16 [==============================] - 0s 5ms/step\n",
      "16/16 [==============================] - 0s 5ms/step\n",
      "16/16 [==============================] - 0s 5ms/step\n",
      "16/16 [==============================] - 0s 5ms/step\n",
      "16/16 [==============================] - 0s 5ms/step\n",
      "16/16 [==============================] - 0s 5ms/step\n",
      "16/16 [==============================] - 0s 5ms/step\n",
      "16/16 [==============================] - 0s 5ms/step\n",
      "16/16 [==============================] - 0s 5ms/step\n",
      "16/16 [==============================] - 0s 5ms/step\n",
      "16/16 [==============================] - 0s 5ms/step\n",
      "16/16 [==============================] - 0s 5ms/step\n",
      "16/16 [==============================] - 0s 5ms/step\n",
      "16/16 [==============================] - 0s 5ms/step\n",
      "16/16 [==============================] - 0s 5ms/step\n",
      "16/16 [==============================] - 0s 5ms/step\n",
      "16/16 [==============================] - 0s 6ms/step\n",
      "16/16 [==============================] - 0s 6ms/step\n",
      "16/16 [==============================] - 0s 9ms/step\n",
      "16/16 [==============================] - 0s 6ms/step\n",
      "16/16 [==============================] - 0s 6ms/step\n",
      "16/16 [==============================] - 0s 8ms/step\n",
      "16/16 [==============================] - 0s 9ms/step\n",
      "16/16 [==============================] - 0s 10ms/step\n",
      "16/16 [==============================] - 0s 10ms/step\n",
      "16/16 [==============================] - 0s 6ms/step\n",
      "16/16 [==============================] - 0s 8ms/step\n",
      "16/16 [==============================] - 0s 6ms/step\n",
      "16/16 [==============================] - 0s 7ms/step\n",
      "16/16 [==============================] - 0s 6ms/step\n",
      "16/16 [==============================] - 0s 6ms/step\n",
      "16/16 [==============================] - 0s 6ms/step\n",
      "16/16 [==============================] - 0s 6ms/step\n",
      "16/16 [==============================] - 0s 7ms/step\n",
      "16/16 [==============================] - 0s 8ms/step\n",
      "16/16 [==============================] - 0s 7ms/step\n",
      "16/16 [==============================] - 0s 7ms/step\n",
      "16/16 [==============================] - 0s 6ms/step\n",
      "16/16 [==============================] - 0s 6ms/step\n",
      "16/16 [==============================] - 0s 6ms/step\n",
      "16/16 [==============================] - 0s 6ms/step\n",
      "16/16 [==============================] - 0s 7ms/step\n",
      "16/16 [==============================] - 0s 7ms/step\n"
     ]
    }
   ],
   "source": [
    "samples = 100\n",
    "num_clases = 2\n",
    "por_clase = []\n",
    "for i in range(num_clases):\n",
    "  pred = []\n",
    "  for j in range(samples):\n",
    "    aux = modelo_bayesiano.predict(clases[i])\n",
    "    predict = np.array([np.argmax(p) for p in aux]).reshape(clases[i].shape[0],1)\n",
    "    pred.append(predict)\n",
    "  pred = np.concatenate(pred, axis=0)\n",
    "  por_clase.append(pred)"
   ]
  },
  {
   "cell_type": "code",
   "execution_count": 149,
   "metadata": {
    "colab": {
     "base_uri": "https://localhost:8080/",
     "height": 1000
    },
    "id": "Adn-nXUvfvJW",
    "outputId": "1d04114b-d661-4e57-d36d-578c0d8c0e8f"
   },
   "outputs": [
    {
     "data": {
      "image/png": "[encoded data removed]",
      "text/plain": [
       "<Figure size 432x288 with 1 Axes>"
      ]
     },
     "metadata": {
      "needs_background": "light"
     },
     "output_type": "display_data"
    },
    {
     "data": {
      "image/png": "[encoded data removed]",
      "text/plain": [
       "<Figure size 432x288 with 1 Axes>"
      ]
     },
     "metadata": {
      "needs_background": "light"
     },
     "output_type": "display_data"
    }
   ],
   "source": [
    "for i in range(num_clases):\n",
    "  plt.title(\"Clase \" + str(i))\n",
    "  plt.hist(por_clase[i])\n",
    "  plt.show()"
   ]
  },
  {
   "cell_type": "code",
   "execution_count": 171,
   "metadata": {},
   "outputs": [
    {
     "name": "stdout",
     "output_type": "stream",
     "text": [
      "[[    0 46102]\n",
      " [    1  5798]]\n",
      "[[    0 10347]\n",
      " [    1 37753]]\n"
     ]
    }
   ],
   "source": [
    "for i in range(num_clases):\n",
    "    array = np.array(por_clase[i])\n",
    "    unique, counts = np.unique(array, return_counts=True)\n",
    "    result = np.column_stack((unique, counts)) \n",
    "    print (result)"
   ]
  },
  {
   "cell_type": "markdown",
   "metadata": {
    "id": "DeYObrv4gzxR"
   },
   "source": [
    "### Histogramas de media y std por clase\n"
   ]
  },
  {
   "cell_type": "code",
   "execution_count": 172,
   "metadata": {
    "id": "gWLMkoYfgkFe",
    "scrolled": true
   },
   "outputs": [
    {
     "name": "stdout",
     "output_type": "stream",
     "text": [
      "4/4 [==============================] - 0s 7ms/step\n",
      "4/4 [==============================] - 0s 7ms/step\n",
      "4/4 [==============================] - 0s 7ms/step\n",
      "4/4 [==============================] - 0s 3ms/step\n",
      "4/4 [==============================] - 0s 7ms/step\n",
      "4/4 [==============================] - 0s 7ms/step\n",
      "4/4 [==============================] - 0s 9ms/step\n",
      "4/4 [==============================] - 0s 7ms/step\n",
      "4/4 [==============================] - 0s 7ms/step\n",
      "4/4 [==============================] - 0s 7ms/step\n",
      "4/4 [==============================] - 0s 4ms/step\n",
      "4/4 [==============================] - 0s 3ms/step\n",
      "4/4 [==============================] - 0s 7ms/step\n",
      "4/4 [==============================] - 0s 6ms/step\n",
      "4/4 [==============================] - 0s 3ms/step\n",
      "4/4 [==============================] - 0s 7ms/step\n",
      "4/4 [==============================] - 0s 7ms/step\n",
      "4/4 [==============================] - 0s 7ms/step\n",
      "4/4 [==============================] - 0s 7ms/step\n",
      "4/4 [==============================] - 0s 4ms/step\n",
      "4/4 [==============================] - 0s 7ms/step\n",
      "4/4 [==============================] - 0s 7ms/step\n",
      "4/4 [==============================] - 0s 7ms/step\n",
      "4/4 [==============================] - 0s 7ms/step\n",
      "4/4 [==============================] - 0s 4ms/step\n",
      "4/4 [==============================] - 0s 7ms/step\n",
      "4/4 [==============================] - 0s 7ms/step\n",
      "4/4 [==============================] - 0s 6ms/step\n",
      "4/4 [==============================] - 0s 6ms/step\n",
      "4/4 [==============================] - 0s 7ms/step\n",
      "4/4 [==============================] - 0s 4ms/step\n",
      "4/4 [==============================] - 0s 10ms/step\n",
      "4/4 [==============================] - 0s 7ms/step\n",
      "4/4 [==============================] - 0s 6ms/step\n",
      "4/4 [==============================] - 0s 7ms/step\n",
      "4/4 [==============================] - 0s 7ms/step\n",
      "4/4 [==============================] - 0s 7ms/step\n",
      "4/4 [==============================] - 0s 9ms/step\n",
      "4/4 [==============================] - 0s 7ms/step\n",
      "4/4 [==============================] - 0s 4ms/step\n",
      "4/4 [==============================] - 0s 7ms/step\n",
      "4/4 [==============================] - 0s 7ms/step\n",
      "4/4 [==============================] - 0s 3ms/step\n",
      "4/4 [==============================] - 0s 4ms/step\n",
      "4/4 [==============================] - 0s 6ms/step\n",
      "4/4 [==============================] - 0s 7ms/step\n",
      "4/4 [==============================] - 0s 7ms/step\n",
      "4/4 [==============================] - 0s 7ms/step\n",
      "4/4 [==============================] - 0s 7ms/step\n",
      "4/4 [==============================] - 0s 7ms/step\n",
      "4/4 [==============================] - 0s 7ms/step\n",
      "4/4 [==============================] - 0s 7ms/step\n",
      "4/4 [==============================] - 0s 7ms/step\n",
      "4/4 [==============================] - 0s 7ms/step\n",
      "4/4 [==============================] - 0s 7ms/step\n",
      "4/4 [==============================] - 0s 7ms/step\n",
      "4/4 [==============================] - 0s 6ms/step\n",
      "4/4 [==============================] - 0s 6ms/step\n",
      "4/4 [==============================] - 0s 5ms/step\n",
      "4/4 [==============================] - 0s 5ms/step\n",
      "4/4 [==============================] - 0s 5ms/step\n",
      "4/4 [==============================] - 0s 5ms/step\n",
      "4/4 [==============================] - 0s 5ms/step\n",
      "4/4 [==============================] - 0s 5ms/step\n",
      "4/4 [==============================] - 0s 5ms/step\n",
      "4/4 [==============================] - 0s 5ms/step\n",
      "4/4 [==============================] - 0s 5ms/step\n",
      "4/4 [==============================] - 0s 5ms/step\n",
      "4/4 [==============================] - 0s 5ms/step\n",
      "4/4 [==============================] - 0s 5ms/step\n",
      "4/4 [==============================] - 0s 5ms/step\n",
      "4/4 [==============================] - 0s 5ms/step\n",
      "4/4 [==============================] - 0s 6ms/step\n",
      "4/4 [==============================] - 0s 7ms/step\n",
      "4/4 [==============================] - 0s 6ms/step\n",
      "4/4 [==============================] - 0s 8ms/step\n",
      "4/4 [==============================] - 0s 6ms/step\n",
      "4/4 [==============================] - 0s 6ms/step\n",
      "4/4 [==============================] - 0s 7ms/step\n",
      "4/4 [==============================] - 0s 6ms/step\n",
      "4/4 [==============================] - 0s 6ms/step\n",
      "4/4 [==============================] - 0s 5ms/step\n",
      "4/4 [==============================] - 0s 5ms/step\n",
      "4/4 [==============================] - 0s 5ms/step\n",
      "4/4 [==============================] - 0s 5ms/step\n",
      "4/4 [==============================] - 0s 5ms/step\n",
      "4/4 [==============================] - 0s 5ms/step\n",
      "4/4 [==============================] - 0s 6ms/step\n",
      "4/4 [==============================] - 0s 6ms/step\n",
      "4/4 [==============================] - 0s 6ms/step\n",
      "4/4 [==============================] - 0s 6ms/step\n",
      "4/4 [==============================] - 0s 7ms/step\n",
      "4/4 [==============================] - 0s 6ms/step\n",
      "4/4 [==============================] - 0s 5ms/step\n",
      "4/4 [==============================] - 0s 5ms/step\n",
      "4/4 [==============================] - 0s 5ms/step\n",
      "4/4 [==============================] - 0s 5ms/step\n",
      "4/4 [==============================] - 0s 8ms/step\n",
      "4/4 [==============================] - 0s 7ms/step\n",
      "4/4 [==============================] - 0s 7ms/step\n",
      "4/4 [==============================] - 0s 6ms/step\n",
      "4/4 [==============================] - 0s 7ms/step\n",
      "4/4 [==============================] - 0s 8ms/step\n",
      "4/4 [==============================] - 0s 6ms/step\n",
      "4/4 [==============================] - 0s 7ms/step\n",
      "4/4 [==============================] - 0s 6ms/step\n",
      "4/4 [==============================] - 0s 5ms/step\n",
      "4/4 [==============================] - 0s 8ms/step\n",
      "4/4 [==============================] - 0s 6ms/step\n",
      "4/4 [==============================] - 0s 7ms/step\n",
      "4/4 [==============================] - 0s 7ms/step\n",
      "4/4 [==============================] - 0s 6ms/step\n",
      "4/4 [==============================] - 0s 6ms/step\n",
      "4/4 [==============================] - 0s 7ms/step\n",
      "4/4 [==============================] - 0s 6ms/step\n",
      "4/4 [==============================] - 0s 5ms/step\n",
      "4/4 [==============================] - 0s 5ms/step\n",
      "4/4 [==============================] - 0s 6ms/step\n",
      "4/4 [==============================] - 0s 6ms/step\n",
      "4/4 [==============================] - 0s 7ms/step\n",
      "4/4 [==============================] - 0s 7ms/step\n",
      "4/4 [==============================] - 0s 6ms/step\n",
      "4/4 [==============================] - 0s 6ms/step\n",
      "4/4 [==============================] - 0s 7ms/step\n",
      "4/4 [==============================] - 0s 6ms/step\n",
      "4/4 [==============================] - 0s 5ms/step\n",
      "4/4 [==============================] - 0s 6ms/step\n",
      "4/4 [==============================] - 0s 6ms/step\n",
      "4/4 [==============================] - 0s 7ms/step\n",
      "4/4 [==============================] - 0s 6ms/step\n",
      "4/4 [==============================] - 0s 7ms/step\n",
      "4/4 [==============================] - 0s 6ms/step\n",
      "4/4 [==============================] - 0s 6ms/step\n",
      "4/4 [==============================] - 0s 7ms/step\n",
      "4/4 [==============================] - 0s 6ms/step\n",
      "4/4 [==============================] - 0s 7ms/step\n",
      "4/4 [==============================] - 0s 6ms/step\n",
      "4/4 [==============================] - 0s 8ms/step\n",
      "4/4 [==============================] - 0s 6ms/step\n",
      "4/4 [==============================] - 0s 8ms/step\n",
      "4/4 [==============================] - 0s 6ms/step\n",
      "4/4 [==============================] - 0s 5ms/step\n",
      "4/4 [==============================] - 0s 6ms/step\n",
      "4/4 [==============================] - 0s 5ms/step\n",
      "4/4 [==============================] - 0s 6ms/step\n",
      "4/4 [==============================] - 0s 5ms/step\n",
      "4/4 [==============================] - 0s 5ms/step\n",
      "4/4 [==============================] - 0s 5ms/step\n",
      "4/4 [==============================] - 0s 8ms/step\n",
      "4/4 [==============================] - 0s 8ms/step\n",
      "4/4 [==============================] - 0s 6ms/step\n",
      "4/4 [==============================] - 0s 6ms/step\n",
      "4/4 [==============================] - 0s 7ms/step\n",
      "4/4 [==============================] - 0s 7ms/step\n",
      "4/4 [==============================] - 0s 6ms/step\n",
      "4/4 [==============================] - 0s 6ms/step\n",
      "4/4 [==============================] - 0s 5ms/step\n",
      "4/4 [==============================] - 0s 6ms/step\n",
      "4/4 [==============================] - 0s 6ms/step\n",
      "4/4 [==============================] - 0s 6ms/step\n",
      "4/4 [==============================] - 0s 7ms/step\n",
      "4/4 [==============================] - 0s 6ms/step\n",
      "4/4 [==============================] - 0s 7ms/step\n",
      "4/4 [==============================] - 0s 6ms/step\n",
      "4/4 [==============================] - 0s 7ms/step\n",
      "4/4 [==============================] - 0s 6ms/step\n",
      "4/4 [==============================] - 0s 7ms/step\n",
      "4/4 [==============================] - 0s 6ms/step\n",
      "4/4 [==============================] - 0s 5ms/step\n",
      "4/4 [==============================] - 0s 5ms/step\n",
      "4/4 [==============================] - 0s 5ms/step\n",
      "4/4 [==============================] - 0s 6ms/step\n",
      "4/4 [==============================] - 0s 6ms/step\n",
      "4/4 [==============================] - 0s 6ms/step\n",
      "4/4 [==============================] - 0s 6ms/step\n",
      "4/4 [==============================] - 0s 6ms/step\n",
      "4/4 [==============================] - 0s 6ms/step\n",
      "4/4 [==============================] - 0s 6ms/step\n",
      "4/4 [==============================] - 0s 6ms/step\n",
      "4/4 [==============================] - 0s 5ms/step\n",
      "4/4 [==============================] - 0s 5ms/step\n",
      "4/4 [==============================] - 0s 5ms/step\n",
      "4/4 [==============================] - 0s 5ms/step\n",
      "4/4 [==============================] - 0s 6ms/step\n",
      "4/4 [==============================] - 0s 6ms/step\n",
      "4/4 [==============================] - 0s 5ms/step\n",
      "4/4 [==============================] - 0s 5ms/step\n",
      "4/4 [==============================] - 0s 5ms/step\n",
      "4/4 [==============================] - 0s 5ms/step\n",
      "4/4 [==============================] - 0s 5ms/step\n",
      "4/4 [==============================] - 0s 6ms/step\n",
      "4/4 [==============================] - 0s 7ms/step\n",
      "4/4 [==============================] - 0s 7ms/step\n",
      "4/4 [==============================] - 0s 7ms/step\n",
      "4/4 [==============================] - 0s 7ms/step\n",
      "4/4 [==============================] - 0s 6ms/step\n",
      "4/4 [==============================] - 0s 6ms/step\n",
      "4/4 [==============================] - 0s 8ms/step\n",
      "4/4 [==============================] - 0s 8ms/step\n",
      "4/4 [==============================] - 0s 8ms/step\n"
     ]
    }
   ],
   "source": [
    "\n",
    "samples = 100\n",
    "ejemplos = 100\n",
    "medias_por_clase = []\n",
    "std_por_clase = []\n",
    "for i in range(num_clases):\n",
    "  pred = []\n",
    "  medias = []\n",
    "  stds = []\n",
    "  for j in range(samples):\n",
    "    aux = modelo_bayesiano.predict(clases[i][:ejemplos])\n",
    "    pred = np.array([np.argmax(p) for p in aux]).reshape(ejemplos)\n",
    "    medias.append(pred.mean())\n",
    "    stds.append(pred.std())\n",
    "  medias_por_clase.append(medias)\n",
    "  std_por_clase.append(stds)"
   ]
  },
  {
   "cell_type": "code",
   "execution_count": 173,
   "metadata": {
    "colab": {
     "base_uri": "https://localhost:8080/",
     "height": 1000
    },
    "id": "Rq08f8NLmH7B",
    "outputId": "5d37dc20-9070-4501-a0d3-2ed138d8bd22",
    "scrolled": true
   },
   "outputs": [
    {
     "data": {
      "image/png": "[encoded data removed]",
      "text/plain": [
       "<Figure size 432x288 with 2 Axes>"
      ]
     },
     "metadata": {
      "needs_background": "light"
     },
     "output_type": "display_data"
    },
    {
     "data": {
      "image/png": "[encoded data removed]",
      "text/plain": [
       "<Figure size 432x288 with 2 Axes>"
      ]
     },
     "metadata": {
      "needs_background": "light"
     },
     "output_type": "display_data"
    }
   ],
   "source": [
    "\n",
    "\n",
    "for i in range(num_clases):\n",
    "  fig, (ax1, ax2) = plt.subplots(1, 2)\n",
    "  fig.suptitle(\"Clase \" + str(i))\n",
    "  ax1.hist(medias_por_clase[i])\n",
    "  ax1.set_title(\"Media\")\n",
    "  ax1.set_xlim(0,1)\n",
    "  ax2.hist(std_por_clase[i])\n",
    "  ax2.set_title(\"Desviación Estandar\")\n",
    "  ax1.set_xlim(0,1)\n",
    "  plt.show()\n",
    "\n"
   ]
  },
  {
   "cell_type": "code",
   "execution_count": null,
   "metadata": {},
   "outputs": [],
   "source": []
  },
  {
   "cell_type": "markdown",
   "metadata": {
    "id": "eKEktLxwGozy"
   },
   "source": [
    "Referencias\n",
    "\n",
    "- https://keras.io/examples/keras_recipes/bayesian_neural_networks/\n",
    "- https://keras.io/examples/keras_recipes/bayesian_neural_networks/\n",
    "- https://www.kaggle.com/piesposito/bayesian-nerual-networks-with-tensorflow-2-0\n",
    "- https://github.com/tensorflow/probability/blob/main/tensorflow_probability/examples/bayesian_neural_network.py\n",
    "- https://www.tensorflow.org/probability?hl=es-419"
   ]
  }
 ],
 "metadata": {
  "accelerator": "GPU",
  "colab": {
   "collapsed_sections": [],
   "name": "Lab 7-2.ipynb",
   "provenance": []
  },
  "gpuClass": "standard",
  "kernelspec": {
   "display_name": "Python 3 (ipykernel)",
   "language": "python",
   "name": "python3"
  },
  "language_info": {
   "codemirror_mode": {
    "name": "ipython",
    "version": 3
   },
   "file_extension": ".py",
   "mimetype": "text/x-python",
   "name": "python",
   "nbconvert_exporter": "python",
   "pygments_lexer": "ipython3",
   "version": "3.9.12"
  }
 },
 "nbformat": 4,
 "nbformat_minor": 1
}
